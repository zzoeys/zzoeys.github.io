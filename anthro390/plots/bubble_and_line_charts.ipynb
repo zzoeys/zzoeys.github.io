{
 "cells": [
  {
   "cell_type": "code",
   "execution_count": 5,
   "metadata": {},
   "outputs": [],
   "source": [
    "import plotly.graph_objects as go\n",
    "import plotly.express as px\n",
    "import pandas as pd\n",
    "from plotly.subplots import make_subplots"
   ]
  },
  {
   "cell_type": "markdown",
   "metadata": {},
   "source": [
    "Read the dataframe. Then, convert the date column to datetime format and the number of total engagements and number of tweets column to integer format."
   ]
  },
  {
   "cell_type": "code",
   "execution_count": 6,
   "metadata": {},
   "outputs": [],
   "source": [
    "df_news_articles_stats = pd.read_csv(\"data/news_articles_stats.csv\")\n",
    "df_news_articles_stats[\"Date\"]= pd.to_datetime(df_news_articles_stats[\"Date\"])\n",
    "df_news_articles_stats[\"Total number of engagements\"] = pd.to_numeric(df_news_articles_stats[\"Total number of engagements\"])\n",
    "\n",
    "df_number_of_tweets = pd.read_csv(\"data/number_of_tweets.csv\")\n",
    "df_number_of_tweets[\"Date\"]= pd.to_datetime(df_number_of_tweets[\"Date\"])\n",
    "df_number_of_tweets[\"Number of tweets\"] = pd.to_numeric(df_number_of_tweets[\"Number of tweets\"])"
   ]
  },
  {
   "cell_type": "markdown",
   "metadata": {},
   "source": [
    "Checking the data types."
   ]
  },
  {
   "cell_type": "code",
   "execution_count": 7,
   "metadata": {},
   "outputs": [
    {
     "name": "stdout",
     "output_type": "stream",
     "text": [
      "<class 'pandas.core.frame.DataFrame'>\n",
      "RangeIndex: 11 entries, 0 to 10\n",
      "Data columns (total 14 columns):\n",
      " #   Column                                 Non-Null Count  Dtype         \n",
      "---  ------                                 --------------  -----         \n",
      " 0   Date                                   11 non-null     datetime64[ns]\n",
      " 1   News agency                            11 non-null     object        \n",
      " 2   Color                                  11 non-null     object        \n",
      " 3   Article title                          11 non-null     object        \n",
      " 4   Notes                                  3 non-null      object        \n",
      " 5   Number of Facebook engagements         7 non-null      object        \n",
      " 6   Number of Twitter shares               7 non-null      object        \n",
      " 7   Number of Twitter retweets and linkes  1 non-null      float64       \n",
      " 8   Number of Reddit engagements           6 non-null      float64       \n",
      " 9   Youtube views                          1 non-null      float64       \n",
      " 10  Cable news views                       2 non-null      float64       \n",
      " 11  Total number of engagements            11 non-null     int64         \n",
      " 12  Article link                           11 non-null     object        \n",
      " 13  y                                      11 non-null     int64         \n",
      "dtypes: datetime64[ns](1), float64(4), int64(2), object(7)\n",
      "memory usage: 1.3+ KB\n",
      "<class 'pandas.core.frame.DataFrame'>\n",
      "RangeIndex: 168 entries, 0 to 167\n",
      "Data columns (total 2 columns):\n",
      " #   Column            Non-Null Count  Dtype         \n",
      "---  ------            --------------  -----         \n",
      " 0   Date              168 non-null    datetime64[ns]\n",
      " 1   Number of tweets  168 non-null    int64         \n",
      "dtypes: datetime64[ns](1), int64(1)\n",
      "memory usage: 2.8 KB\n"
     ]
    }
   ],
   "source": [
    "df_news_articles_stats.info()\n",
    "df_number_of_tweets.info()"
   ]
  },
  {
   "cell_type": "markdown",
   "metadata": {},
   "source": [
    "Create a diagram of the reach of news reportings and notable Twitter posts."
   ]
  },
  {
   "cell_type": "code",
   "execution_count": 8,
   "metadata": {},
   "outputs": [
    {
     "data": {
      "application/vnd.plotly.v1+json": {
       "config": {
        "plotlyServerURL": "https://plot.ly"
       },
       "data": [
        {
         "hovertemplate": "News agency: %{text} <br>Reach: %{marker.size} <extra></extra>",
         "marker": {
          "color": [
           "rgb(239, 177, 65)",
           "rgb(47, 141, 216)",
           "rgb(7, 50, 99)",
           "rgb(7, 50, 99)",
           "rgb(199, 54, 54)",
           "rgb(239, 177, 65)",
           "rgb(0, 0, 0)",
           "rgb(239, 177, 65)",
           "rgb(53, 80, 161)",
           "rgb(199, 54, 54)",
           "rgb(7, 50, 99)"
          ],
          "size": [
           6513,
           203914,
           1657,
           16543,
           27496,
           113264,
           2831,
           2530000,
           14961,
           633,
           1500000
          ],
          "sizemin": 4,
          "sizemode": "area",
          "sizeref": 3162.5
         },
         "mode": "markers",
         "name": "Reach of news articles and posts",
         "text": [
          "CBS",
          "Elon Musk's Twitter",
          "Fox News",
          "Fox News",
          "New York Post",
          "CBS Mornings Youtube Channel ",
          "Washington Post",
          "CBS Mornings",
          "Newsmax",
          "New York Post",
          "Fox News Fox and Friends"
         ],
         "type": "scatter",
         "x": [
          "2022-11-21T18:14:00",
          "2022-11-23T22:38:00",
          "2022-11-22T08:26:00",
          "2022-11-24T15:04:00",
          "2022-11-21T16:49:00",
          "2022-11-21T08:39:59",
          "2022-11-23T02:00:00",
          "2022-11-21T07:30:00",
          "2022-11-24T07:29:00",
          "2022-11-25T18:07:00",
          "2022-11-22T07:20:00"
         ],
         "y": [
          14000,
          14000,
          14000,
          14000,
          14000,
          14000,
          14000,
          14000,
          14000,
          14000,
          14000
         ]
        }
       ],
       "layout": {
        "paper_bgcolor": "rgb(0,0,0,0)",
        "plot_bgcolor": "rgb(0,0,0,0)",
        "template": {
         "data": {
          "bar": [
           {
            "error_x": {
             "color": "#2a3f5f"
            },
            "error_y": {
             "color": "#2a3f5f"
            },
            "marker": {
             "line": {
              "color": "#E5ECF6",
              "width": 0.5
             },
             "pattern": {
              "fillmode": "overlay",
              "size": 10,
              "solidity": 0.2
             }
            },
            "type": "bar"
           }
          ],
          "barpolar": [
           {
            "marker": {
             "line": {
              "color": "#E5ECF6",
              "width": 0.5
             },
             "pattern": {
              "fillmode": "overlay",
              "size": 10,
              "solidity": 0.2
             }
            },
            "type": "barpolar"
           }
          ],
          "carpet": [
           {
            "aaxis": {
             "endlinecolor": "#2a3f5f",
             "gridcolor": "white",
             "linecolor": "white",
             "minorgridcolor": "white",
             "startlinecolor": "#2a3f5f"
            },
            "baxis": {
             "endlinecolor": "#2a3f5f",
             "gridcolor": "white",
             "linecolor": "white",
             "minorgridcolor": "white",
             "startlinecolor": "#2a3f5f"
            },
            "type": "carpet"
           }
          ],
          "choropleth": [
           {
            "colorbar": {
             "outlinewidth": 0,
             "ticks": ""
            },
            "type": "choropleth"
           }
          ],
          "contour": [
           {
            "colorbar": {
             "outlinewidth": 0,
             "ticks": ""
            },
            "colorscale": [
             [
              0,
              "#0d0887"
             ],
             [
              0.1111111111111111,
              "#46039f"
             ],
             [
              0.2222222222222222,
              "#7201a8"
             ],
             [
              0.3333333333333333,
              "#9c179e"
             ],
             [
              0.4444444444444444,
              "#bd3786"
             ],
             [
              0.5555555555555556,
              "#d8576b"
             ],
             [
              0.6666666666666666,
              "#ed7953"
             ],
             [
              0.7777777777777778,
              "#fb9f3a"
             ],
             [
              0.8888888888888888,
              "#fdca26"
             ],
             [
              1,
              "#f0f921"
             ]
            ],
            "type": "contour"
           }
          ],
          "contourcarpet": [
           {
            "colorbar": {
             "outlinewidth": 0,
             "ticks": ""
            },
            "type": "contourcarpet"
           }
          ],
          "heatmap": [
           {
            "colorbar": {
             "outlinewidth": 0,
             "ticks": ""
            },
            "colorscale": [
             [
              0,
              "#0d0887"
             ],
             [
              0.1111111111111111,
              "#46039f"
             ],
             [
              0.2222222222222222,
              "#7201a8"
             ],
             [
              0.3333333333333333,
              "#9c179e"
             ],
             [
              0.4444444444444444,
              "#bd3786"
             ],
             [
              0.5555555555555556,
              "#d8576b"
             ],
             [
              0.6666666666666666,
              "#ed7953"
             ],
             [
              0.7777777777777778,
              "#fb9f3a"
             ],
             [
              0.8888888888888888,
              "#fdca26"
             ],
             [
              1,
              "#f0f921"
             ]
            ],
            "type": "heatmap"
           }
          ],
          "heatmapgl": [
           {
            "colorbar": {
             "outlinewidth": 0,
             "ticks": ""
            },
            "colorscale": [
             [
              0,
              "#0d0887"
             ],
             [
              0.1111111111111111,
              "#46039f"
             ],
             [
              0.2222222222222222,
              "#7201a8"
             ],
             [
              0.3333333333333333,
              "#9c179e"
             ],
             [
              0.4444444444444444,
              "#bd3786"
             ],
             [
              0.5555555555555556,
              "#d8576b"
             ],
             [
              0.6666666666666666,
              "#ed7953"
             ],
             [
              0.7777777777777778,
              "#fb9f3a"
             ],
             [
              0.8888888888888888,
              "#fdca26"
             ],
             [
              1,
              "#f0f921"
             ]
            ],
            "type": "heatmapgl"
           }
          ],
          "histogram": [
           {
            "marker": {
             "pattern": {
              "fillmode": "overlay",
              "size": 10,
              "solidity": 0.2
             }
            },
            "type": "histogram"
           }
          ],
          "histogram2d": [
           {
            "colorbar": {
             "outlinewidth": 0,
             "ticks": ""
            },
            "colorscale": [
             [
              0,
              "#0d0887"
             ],
             [
              0.1111111111111111,
              "#46039f"
             ],
             [
              0.2222222222222222,
              "#7201a8"
             ],
             [
              0.3333333333333333,
              "#9c179e"
             ],
             [
              0.4444444444444444,
              "#bd3786"
             ],
             [
              0.5555555555555556,
              "#d8576b"
             ],
             [
              0.6666666666666666,
              "#ed7953"
             ],
             [
              0.7777777777777778,
              "#fb9f3a"
             ],
             [
              0.8888888888888888,
              "#fdca26"
             ],
             [
              1,
              "#f0f921"
             ]
            ],
            "type": "histogram2d"
           }
          ],
          "histogram2dcontour": [
           {
            "colorbar": {
             "outlinewidth": 0,
             "ticks": ""
            },
            "colorscale": [
             [
              0,
              "#0d0887"
             ],
             [
              0.1111111111111111,
              "#46039f"
             ],
             [
              0.2222222222222222,
              "#7201a8"
             ],
             [
              0.3333333333333333,
              "#9c179e"
             ],
             [
              0.4444444444444444,
              "#bd3786"
             ],
             [
              0.5555555555555556,
              "#d8576b"
             ],
             [
              0.6666666666666666,
              "#ed7953"
             ],
             [
              0.7777777777777778,
              "#fb9f3a"
             ],
             [
              0.8888888888888888,
              "#fdca26"
             ],
             [
              1,
              "#f0f921"
             ]
            ],
            "type": "histogram2dcontour"
           }
          ],
          "mesh3d": [
           {
            "colorbar": {
             "outlinewidth": 0,
             "ticks": ""
            },
            "type": "mesh3d"
           }
          ],
          "parcoords": [
           {
            "line": {
             "colorbar": {
              "outlinewidth": 0,
              "ticks": ""
             }
            },
            "type": "parcoords"
           }
          ],
          "pie": [
           {
            "automargin": true,
            "type": "pie"
           }
          ],
          "scatter": [
           {
            "marker": {
             "colorbar": {
              "outlinewidth": 0,
              "ticks": ""
             }
            },
            "type": "scatter"
           }
          ],
          "scatter3d": [
           {
            "line": {
             "colorbar": {
              "outlinewidth": 0,
              "ticks": ""
             }
            },
            "marker": {
             "colorbar": {
              "outlinewidth": 0,
              "ticks": ""
             }
            },
            "type": "scatter3d"
           }
          ],
          "scattercarpet": [
           {
            "marker": {
             "colorbar": {
              "outlinewidth": 0,
              "ticks": ""
             }
            },
            "type": "scattercarpet"
           }
          ],
          "scattergeo": [
           {
            "marker": {
             "colorbar": {
              "outlinewidth": 0,
              "ticks": ""
             }
            },
            "type": "scattergeo"
           }
          ],
          "scattergl": [
           {
            "marker": {
             "colorbar": {
              "outlinewidth": 0,
              "ticks": ""
             }
            },
            "type": "scattergl"
           }
          ],
          "scattermapbox": [
           {
            "marker": {
             "colorbar": {
              "outlinewidth": 0,
              "ticks": ""
             }
            },
            "type": "scattermapbox"
           }
          ],
          "scatterpolar": [
           {
            "marker": {
             "colorbar": {
              "outlinewidth": 0,
              "ticks": ""
             }
            },
            "type": "scatterpolar"
           }
          ],
          "scatterpolargl": [
           {
            "marker": {
             "colorbar": {
              "outlinewidth": 0,
              "ticks": ""
             }
            },
            "type": "scatterpolargl"
           }
          ],
          "scatterternary": [
           {
            "marker": {
             "colorbar": {
              "outlinewidth": 0,
              "ticks": ""
             }
            },
            "type": "scatterternary"
           }
          ],
          "surface": [
           {
            "colorbar": {
             "outlinewidth": 0,
             "ticks": ""
            },
            "colorscale": [
             [
              0,
              "#0d0887"
             ],
             [
              0.1111111111111111,
              "#46039f"
             ],
             [
              0.2222222222222222,
              "#7201a8"
             ],
             [
              0.3333333333333333,
              "#9c179e"
             ],
             [
              0.4444444444444444,
              "#bd3786"
             ],
             [
              0.5555555555555556,
              "#d8576b"
             ],
             [
              0.6666666666666666,
              "#ed7953"
             ],
             [
              0.7777777777777778,
              "#fb9f3a"
             ],
             [
              0.8888888888888888,
              "#fdca26"
             ],
             [
              1,
              "#f0f921"
             ]
            ],
            "type": "surface"
           }
          ],
          "table": [
           {
            "cells": {
             "fill": {
              "color": "#EBF0F8"
             },
             "line": {
              "color": "white"
             }
            },
            "header": {
             "fill": {
              "color": "#C8D4E3"
             },
             "line": {
              "color": "white"
             }
            },
            "type": "table"
           }
          ]
         },
         "layout": {
          "annotationdefaults": {
           "arrowcolor": "#2a3f5f",
           "arrowhead": 0,
           "arrowwidth": 1
          },
          "autotypenumbers": "strict",
          "coloraxis": {
           "colorbar": {
            "outlinewidth": 0,
            "ticks": ""
           }
          },
          "colorscale": {
           "diverging": [
            [
             0,
             "#8e0152"
            ],
            [
             0.1,
             "#c51b7d"
            ],
            [
             0.2,
             "#de77ae"
            ],
            [
             0.3,
             "#f1b6da"
            ],
            [
             0.4,
             "#fde0ef"
            ],
            [
             0.5,
             "#f7f7f7"
            ],
            [
             0.6,
             "#e6f5d0"
            ],
            [
             0.7,
             "#b8e186"
            ],
            [
             0.8,
             "#7fbc41"
            ],
            [
             0.9,
             "#4d9221"
            ],
            [
             1,
             "#276419"
            ]
           ],
           "sequential": [
            [
             0,
             "#0d0887"
            ],
            [
             0.1111111111111111,
             "#46039f"
            ],
            [
             0.2222222222222222,
             "#7201a8"
            ],
            [
             0.3333333333333333,
             "#9c179e"
            ],
            [
             0.4444444444444444,
             "#bd3786"
            ],
            [
             0.5555555555555556,
             "#d8576b"
            ],
            [
             0.6666666666666666,
             "#ed7953"
            ],
            [
             0.7777777777777778,
             "#fb9f3a"
            ],
            [
             0.8888888888888888,
             "#fdca26"
            ],
            [
             1,
             "#f0f921"
            ]
           ],
           "sequentialminus": [
            [
             0,
             "#0d0887"
            ],
            [
             0.1111111111111111,
             "#46039f"
            ],
            [
             0.2222222222222222,
             "#7201a8"
            ],
            [
             0.3333333333333333,
             "#9c179e"
            ],
            [
             0.4444444444444444,
             "#bd3786"
            ],
            [
             0.5555555555555556,
             "#d8576b"
            ],
            [
             0.6666666666666666,
             "#ed7953"
            ],
            [
             0.7777777777777778,
             "#fb9f3a"
            ],
            [
             0.8888888888888888,
             "#fdca26"
            ],
            [
             1,
             "#f0f921"
            ]
           ]
          },
          "colorway": [
           "#636efa",
           "#EF553B",
           "#00cc96",
           "#ab63fa",
           "#FFA15A",
           "#19d3f3",
           "#FF6692",
           "#B6E880",
           "#FF97FF",
           "#FECB52"
          ],
          "font": {
           "color": "#2a3f5f"
          },
          "geo": {
           "bgcolor": "white",
           "lakecolor": "white",
           "landcolor": "#E5ECF6",
           "showlakes": true,
           "showland": true,
           "subunitcolor": "white"
          },
          "hoverlabel": {
           "align": "left"
          },
          "hovermode": "closest",
          "mapbox": {
           "style": "light"
          },
          "paper_bgcolor": "white",
          "plot_bgcolor": "#E5ECF6",
          "polar": {
           "angularaxis": {
            "gridcolor": "white",
            "linecolor": "white",
            "ticks": ""
           },
           "bgcolor": "#E5ECF6",
           "radialaxis": {
            "gridcolor": "white",
            "linecolor": "white",
            "ticks": ""
           }
          },
          "scene": {
           "xaxis": {
            "backgroundcolor": "#E5ECF6",
            "gridcolor": "white",
            "gridwidth": 2,
            "linecolor": "white",
            "showbackground": true,
            "ticks": "",
            "zerolinecolor": "white"
           },
           "yaxis": {
            "backgroundcolor": "#E5ECF6",
            "gridcolor": "white",
            "gridwidth": 2,
            "linecolor": "white",
            "showbackground": true,
            "ticks": "",
            "zerolinecolor": "white"
           },
           "zaxis": {
            "backgroundcolor": "#E5ECF6",
            "gridcolor": "white",
            "gridwidth": 2,
            "linecolor": "white",
            "showbackground": true,
            "ticks": "",
            "zerolinecolor": "white"
           }
          },
          "shapedefaults": {
           "line": {
            "color": "#2a3f5f"
           }
          },
          "ternary": {
           "aaxis": {
            "gridcolor": "white",
            "linecolor": "white",
            "ticks": ""
           },
           "baxis": {
            "gridcolor": "white",
            "linecolor": "white",
            "ticks": ""
           },
           "bgcolor": "#E5ECF6",
           "caxis": {
            "gridcolor": "white",
            "linecolor": "white",
            "ticks": ""
           }
          },
          "title": {
           "x": 0.05
          },
          "xaxis": {
           "automargin": true,
           "gridcolor": "white",
           "linecolor": "white",
           "ticks": "",
           "title": {
            "standoff": 15
           },
           "zerolinecolor": "white",
           "zerolinewidth": 2
          },
          "yaxis": {
           "automargin": true,
           "gridcolor": "white",
           "linecolor": "white",
           "ticks": "",
           "title": {
            "standoff": 15
           },
           "zerolinecolor": "white",
           "zerolinewidth": 2
          }
         }
        },
        "xaxis": {
         "gridcolor": "grey",
         "gridwidth": 1,
         "showgrid": true
        },
        "yaxis": {
         "visible": false
        }
       }
      }
     },
     "metadata": {},
     "output_type": "display_data"
    }
   ],
   "source": [
    "fig = go.Figure(data=[go.Scatter(\n",
    "    x = df_news_articles_stats[\"Date\"], \n",
    "    y = df_news_articles_stats[\"y\"],\n",
    "    name = \"Reach of news articles and posts\",\n",
    "    mode = 'markers',\n",
    "    text = df_news_articles_stats[\"News agency\"],\n",
    "    marker = dict(\n",
    "        color = df_news_articles_stats[\"Color\"],\n",
    "        size = df_news_articles_stats[\"Total number of engagements\"],\n",
    "        sizemode = 'area',\n",
    "        sizeref = 2.*max(df_news_articles_stats[\"Total number of engagements\"])/(40.**2),\n",
    "        sizemin = 4\n",
    "    ),\n",
    "    hovertemplate = \"News agency: %{text} <br>Reach: %{marker.size} <extra></extra>\"\n",
    "\n",
    ")])\n",
    "\n",
    "fig.update_yaxes(visible=False)\n",
    "fig.update_layout(paper_bgcolor=\"rgb(0,0,0,0)\")\n",
    "fig.update_layout(plot_bgcolor=\"rgb(0,0,0,0)\")\n",
    "fig.update_xaxes(showgrid=True, gridwidth=1, gridcolor='grey')\n",
    "fig.show()\n",
    "fig.write_html(\"html/reach.html\", include_plotlyjs=\"cdn\", full_html = False)"
   ]
  },
  {
   "cell_type": "markdown",
   "metadata": {},
   "source": [
    "Create a combined reach of news articles and number of tweets plot."
   ]
  },
  {
   "cell_type": "code",
   "execution_count": 9,
   "metadata": {},
   "outputs": [
    {
     "data": {
      "application/vnd.plotly.v1+json": {
       "config": {
        "plotlyServerURL": "https://plot.ly"
       },
       "data": [
        {
         "hovertemplate": "Date posted: %{x}  <br>News agency: %{text} <br>Reach: %{marker.size} <extra></extra>",
         "marker": {
          "color": [
           "rgb(239, 177, 65)",
           "rgb(47, 141, 216)",
           "rgb(7, 50, 99)",
           "rgb(7, 50, 99)",
           "rgb(199, 54, 54)",
           "rgb(239, 177, 65)",
           "rgb(0, 0, 0)",
           "rgb(239, 177, 65)",
           "rgb(53, 80, 161)",
           "rgb(199, 54, 54)",
           "rgb(7, 50, 99)"
          ],
          "size": [
           6513,
           203914,
           1657,
           16543,
           27496,
           113264,
           2831,
           2530000,
           14961,
           633,
           1500000
          ],
          "sizemin": 4,
          "sizemode": "area",
          "sizeref": 3162.5
         },
         "mode": "markers",
         "name": "Reach of news articles and posts",
         "text": [
          "CBS",
          "Elon Musk's Twitter",
          "Fox News",
          "Fox News",
          "New York Post",
          "CBS Mornings Youtube Channel ",
          "Washington Post",
          "CBS Mornings",
          "Newsmax",
          "New York Post",
          "Fox News Fox and Friends"
         ],
         "type": "scatter",
         "x": [
          "2022-11-21T18:14:00",
          "2022-11-23T22:38:00",
          "2022-11-22T08:26:00",
          "2022-11-24T15:04:00",
          "2022-11-21T16:49:00",
          "2022-11-21T08:39:59",
          "2022-11-23T02:00:00",
          "2022-11-21T07:30:00",
          "2022-11-24T07:29:00",
          "2022-11-25T18:07:00",
          "2022-11-22T07:20:00"
         ],
         "y": [
          14000,
          14000,
          14000,
          14000,
          14000,
          14000,
          14000,
          14000,
          14000,
          14000,
          14000
         ]
        },
        {
         "marker": {
          "color": "rgba(152, 0, 0, .8)"
         },
         "name": "Number of tweets",
         "type": "scatter",
         "x": [
          "2022-11-20T10:00:00",
          "2022-11-20T11:00:00",
          "2022-11-20T12:00:00",
          "2022-11-20T13:00:00",
          "2022-11-20T14:00:00",
          "2022-11-20T15:00:00",
          "2022-11-20T16:00:00",
          "2022-11-20T17:00:00",
          "2022-11-20T18:00:00",
          "2022-11-20T19:00:00",
          "2022-11-20T20:00:00",
          "2022-11-20T21:00:00",
          "2022-11-20T22:00:00",
          "2022-11-20T23:00:00",
          "2022-11-21T00:00:00",
          "2022-11-21T01:00:00",
          "2022-11-21T02:00:00",
          "2022-11-21T03:00:00",
          "2022-11-21T04:00:00",
          "2022-11-21T05:00:00",
          "2022-11-21T06:00:00",
          "2022-11-21T07:00:00",
          "2022-11-21T08:00:00",
          "2022-11-21T09:00:00",
          "2022-11-21T10:00:00",
          "2022-11-21T11:00:00",
          "2022-11-21T12:00:00",
          "2022-11-21T13:00:00",
          "2022-11-21T14:00:00",
          "2022-11-21T15:00:00",
          "2022-11-21T16:00:00",
          "2022-11-21T17:00:00",
          "2022-11-21T18:00:00",
          "2022-11-21T19:00:00",
          "2022-11-21T20:00:00",
          "2022-11-21T21:00:00",
          "2022-11-21T22:00:00",
          "2022-11-21T23:00:00",
          "2022-11-22T00:00:00",
          "2022-11-22T01:00:00",
          "2022-11-22T02:00:00",
          "2022-11-22T03:00:00",
          "2022-11-22T04:00:00",
          "2022-11-22T05:00:00",
          "2022-11-22T06:00:00",
          "2022-11-22T07:00:00",
          "2022-11-22T08:00:00",
          "2022-11-22T09:00:00",
          "2022-11-22T10:00:00",
          "2022-11-22T11:00:00",
          "2022-11-22T12:00:00",
          "2022-11-22T13:00:00",
          "2022-11-22T14:00:00",
          "2022-11-22T15:00:00",
          "2022-11-22T16:00:00",
          "2022-11-22T17:00:00",
          "2022-11-22T18:00:00",
          "2022-11-22T19:00:00",
          "2022-11-22T20:00:00",
          "2022-11-22T21:00:00",
          "2022-11-22T22:00:00",
          "2022-11-22T23:00:00",
          "2022-11-23T00:00:00",
          "2022-11-23T01:00:00",
          "2022-11-23T02:00:00",
          "2022-11-23T03:00:00",
          "2022-11-23T04:00:00",
          "2022-11-23T05:00:00",
          "2022-11-23T06:00:00",
          "2022-11-23T07:00:00",
          "2022-11-23T08:00:00",
          "2022-11-23T09:00:00",
          "2022-11-23T10:00:00",
          "2022-11-23T11:00:00",
          "2022-11-23T12:00:00",
          "2022-11-23T13:00:00",
          "2022-11-23T14:00:00",
          "2022-11-23T15:00:00",
          "2022-11-23T16:00:00",
          "2022-11-23T17:00:00",
          "2022-11-23T18:00:00",
          "2022-11-23T19:00:00",
          "2022-11-23T20:00:00",
          "2022-11-23T21:00:00",
          "2022-11-23T22:00:00",
          "2022-11-23T23:00:00",
          "2022-11-24T00:00:00",
          "2022-11-24T01:00:00",
          "2022-11-24T02:00:00",
          "2022-11-24T03:00:00",
          "2022-11-24T04:00:00",
          "2022-11-24T05:00:00",
          "2022-11-24T06:00:00",
          "2022-11-24T07:00:00",
          "2022-11-24T08:00:00",
          "2022-11-24T09:00:00",
          "2022-11-24T10:00:00",
          "2022-11-24T11:00:00",
          "2022-11-24T12:00:00",
          "2022-11-24T13:00:00",
          "2022-11-24T14:00:00",
          "2022-11-24T15:00:00",
          "2022-11-24T16:00:00",
          "2022-11-24T17:00:00",
          "2022-11-24T18:00:00",
          "2022-11-24T19:00:00",
          "2022-11-24T20:00:00",
          "2022-11-24T21:00:00",
          "2022-11-24T22:00:00",
          "2022-11-24T23:00:00",
          "2022-11-25T00:00:00",
          "2022-11-25T01:00:00",
          "2022-11-25T02:00:00",
          "2022-11-25T03:00:00",
          "2022-11-25T04:00:00",
          "2022-11-25T05:00:00",
          "2022-11-25T06:00:00",
          "2022-11-25T07:00:00",
          "2022-11-25T08:00:00",
          "2022-11-25T09:00:00",
          "2022-11-25T10:00:00",
          "2022-11-25T11:00:00",
          "2022-11-25T12:00:00",
          "2022-11-25T13:00:00",
          "2022-11-25T14:00:00",
          "2022-11-25T15:00:00",
          "2022-11-25T16:00:00",
          "2022-11-25T17:00:00",
          "2022-11-25T18:00:00",
          "2022-11-25T19:00:00",
          "2022-11-25T20:00:00",
          "2022-11-25T21:00:00",
          "2022-11-25T22:00:00",
          "2022-11-25T23:00:00",
          "2022-11-26T00:00:00",
          "2022-11-26T01:00:00",
          "2022-11-26T02:00:00",
          "2022-11-26T03:00:00",
          "2022-11-26T04:00:00",
          "2022-11-26T05:00:00",
          "2022-11-26T06:00:00",
          "2022-11-26T07:00:00",
          "2022-11-26T08:00:00",
          "2022-11-26T09:00:00",
          "2022-11-26T10:00:00",
          "2022-11-26T11:00:00",
          "2022-11-26T12:00:00",
          "2022-11-26T13:00:00",
          "2022-11-26T14:00:00",
          "2022-11-26T15:00:00",
          "2022-11-26T16:00:00",
          "2022-11-26T17:00:00",
          "2022-11-26T18:00:00",
          "2022-11-26T19:00:00",
          "2022-11-26T20:00:00",
          "2022-11-26T21:00:00",
          "2022-11-26T22:00:00",
          "2022-11-26T23:00:00",
          "2022-11-27T00:00:00",
          "2022-11-27T01:00:00",
          "2022-11-27T02:00:00",
          "2022-11-27T03:00:00",
          "2022-11-27T04:00:00",
          "2022-11-27T05:00:00",
          "2022-11-27T06:00:00",
          "2022-11-27T07:00:00",
          "2022-11-27T08:00:00",
          "2022-11-27T09:00:00"
         ],
         "y": [
          250,
          1053,
          949,
          879,
          711,
          602,
          689,
          595,
          884,
          705,
          625,
          473,
          403,
          363,
          270,
          189,
          138,
          133,
          123,
          102,
          182,
          379,
          1196,
          3622,
          5354,
          6442,
          9408,
          12265,
          10426,
          9098,
          8345,
          10294,
          9967,
          9985,
          10072,
          9201,
          8058,
          6121,
          4557,
          3116,
          2164,
          1846,
          1744,
          2945,
          3979,
          5307,
          6382,
          5659,
          5944,
          6172,
          5673,
          5120,
          4809,
          4376,
          4580,
          4278,
          3950,
          4463,
          3545,
          3340,
          2593,
          3017,
          1893,
          1365,
          1005,
          849,
          877,
          1056,
          1323,
          1705,
          1963,
          2709,
          3393,
          3249,
          2295,
          2428,
          2284,
          1951,
          1679,
          1771,
          1636,
          1509,
          1330,
          1415,
          1836,
          2591,
          3206,
          1770,
          1180,
          855,
          907,
          978,
          1186,
          1688,
          2048,
          2445,
          2538,
          2388,
          1906,
          1694,
          1532,
          1287,
          1722,
          1918,
          2744,
          2583,
          2394,
          2199,
          2037,
          1911,
          1248,
          930,
          761,
          611,
          633,
          651,
          792,
          1242,
          1592,
          1947,
          1792,
          2212,
          1984,
          1740,
          1460,
          1644,
          1639,
          1785,
          2193,
          1868,
          1473,
          1648,
          1091,
          889,
          775,
          550,
          509,
          348,
          445,
          401,
          537,
          777,
          970,
          997,
          940,
          896,
          847,
          714,
          863,
          671,
          632,
          638,
          567,
          470,
          478,
          652,
          388,
          311,
          281,
          210,
          158,
          124,
          106,
          130,
          194,
          222,
          356,
          559
         ]
        }
       ],
       "layout": {
        "hoverlabel": {
         "align": "right"
        },
        "hovermode": "x unified",
        "template": {
         "data": {
          "bar": [
           {
            "error_x": {
             "color": "#2a3f5f"
            },
            "error_y": {
             "color": "#2a3f5f"
            },
            "marker": {
             "line": {
              "color": "#E5ECF6",
              "width": 0.5
             },
             "pattern": {
              "fillmode": "overlay",
              "size": 10,
              "solidity": 0.2
             }
            },
            "type": "bar"
           }
          ],
          "barpolar": [
           {
            "marker": {
             "line": {
              "color": "#E5ECF6",
              "width": 0.5
             },
             "pattern": {
              "fillmode": "overlay",
              "size": 10,
              "solidity": 0.2
             }
            },
            "type": "barpolar"
           }
          ],
          "carpet": [
           {
            "aaxis": {
             "endlinecolor": "#2a3f5f",
             "gridcolor": "white",
             "linecolor": "white",
             "minorgridcolor": "white",
             "startlinecolor": "#2a3f5f"
            },
            "baxis": {
             "endlinecolor": "#2a3f5f",
             "gridcolor": "white",
             "linecolor": "white",
             "minorgridcolor": "white",
             "startlinecolor": "#2a3f5f"
            },
            "type": "carpet"
           }
          ],
          "choropleth": [
           {
            "colorbar": {
             "outlinewidth": 0,
             "ticks": ""
            },
            "type": "choropleth"
           }
          ],
          "contour": [
           {
            "colorbar": {
             "outlinewidth": 0,
             "ticks": ""
            },
            "colorscale": [
             [
              0,
              "#0d0887"
             ],
             [
              0.1111111111111111,
              "#46039f"
             ],
             [
              0.2222222222222222,
              "#7201a8"
             ],
             [
              0.3333333333333333,
              "#9c179e"
             ],
             [
              0.4444444444444444,
              "#bd3786"
             ],
             [
              0.5555555555555556,
              "#d8576b"
             ],
             [
              0.6666666666666666,
              "#ed7953"
             ],
             [
              0.7777777777777778,
              "#fb9f3a"
             ],
             [
              0.8888888888888888,
              "#fdca26"
             ],
             [
              1,
              "#f0f921"
             ]
            ],
            "type": "contour"
           }
          ],
          "contourcarpet": [
           {
            "colorbar": {
             "outlinewidth": 0,
             "ticks": ""
            },
            "type": "contourcarpet"
           }
          ],
          "heatmap": [
           {
            "colorbar": {
             "outlinewidth": 0,
             "ticks": ""
            },
            "colorscale": [
             [
              0,
              "#0d0887"
             ],
             [
              0.1111111111111111,
              "#46039f"
             ],
             [
              0.2222222222222222,
              "#7201a8"
             ],
             [
              0.3333333333333333,
              "#9c179e"
             ],
             [
              0.4444444444444444,
              "#bd3786"
             ],
             [
              0.5555555555555556,
              "#d8576b"
             ],
             [
              0.6666666666666666,
              "#ed7953"
             ],
             [
              0.7777777777777778,
              "#fb9f3a"
             ],
             [
              0.8888888888888888,
              "#fdca26"
             ],
             [
              1,
              "#f0f921"
             ]
            ],
            "type": "heatmap"
           }
          ],
          "heatmapgl": [
           {
            "colorbar": {
             "outlinewidth": 0,
             "ticks": ""
            },
            "colorscale": [
             [
              0,
              "#0d0887"
             ],
             [
              0.1111111111111111,
              "#46039f"
             ],
             [
              0.2222222222222222,
              "#7201a8"
             ],
             [
              0.3333333333333333,
              "#9c179e"
             ],
             [
              0.4444444444444444,
              "#bd3786"
             ],
             [
              0.5555555555555556,
              "#d8576b"
             ],
             [
              0.6666666666666666,
              "#ed7953"
             ],
             [
              0.7777777777777778,
              "#fb9f3a"
             ],
             [
              0.8888888888888888,
              "#fdca26"
             ],
             [
              1,
              "#f0f921"
             ]
            ],
            "type": "heatmapgl"
           }
          ],
          "histogram": [
           {
            "marker": {
             "pattern": {
              "fillmode": "overlay",
              "size": 10,
              "solidity": 0.2
             }
            },
            "type": "histogram"
           }
          ],
          "histogram2d": [
           {
            "colorbar": {
             "outlinewidth": 0,
             "ticks": ""
            },
            "colorscale": [
             [
              0,
              "#0d0887"
             ],
             [
              0.1111111111111111,
              "#46039f"
             ],
             [
              0.2222222222222222,
              "#7201a8"
             ],
             [
              0.3333333333333333,
              "#9c179e"
             ],
             [
              0.4444444444444444,
              "#bd3786"
             ],
             [
              0.5555555555555556,
              "#d8576b"
             ],
             [
              0.6666666666666666,
              "#ed7953"
             ],
             [
              0.7777777777777778,
              "#fb9f3a"
             ],
             [
              0.8888888888888888,
              "#fdca26"
             ],
             [
              1,
              "#f0f921"
             ]
            ],
            "type": "histogram2d"
           }
          ],
          "histogram2dcontour": [
           {
            "colorbar": {
             "outlinewidth": 0,
             "ticks": ""
            },
            "colorscale": [
             [
              0,
              "#0d0887"
             ],
             [
              0.1111111111111111,
              "#46039f"
             ],
             [
              0.2222222222222222,
              "#7201a8"
             ],
             [
              0.3333333333333333,
              "#9c179e"
             ],
             [
              0.4444444444444444,
              "#bd3786"
             ],
             [
              0.5555555555555556,
              "#d8576b"
             ],
             [
              0.6666666666666666,
              "#ed7953"
             ],
             [
              0.7777777777777778,
              "#fb9f3a"
             ],
             [
              0.8888888888888888,
              "#fdca26"
             ],
             [
              1,
              "#f0f921"
             ]
            ],
            "type": "histogram2dcontour"
           }
          ],
          "mesh3d": [
           {
            "colorbar": {
             "outlinewidth": 0,
             "ticks": ""
            },
            "type": "mesh3d"
           }
          ],
          "parcoords": [
           {
            "line": {
             "colorbar": {
              "outlinewidth": 0,
              "ticks": ""
             }
            },
            "type": "parcoords"
           }
          ],
          "pie": [
           {
            "automargin": true,
            "type": "pie"
           }
          ],
          "scatter": [
           {
            "marker": {
             "colorbar": {
              "outlinewidth": 0,
              "ticks": ""
             }
            },
            "type": "scatter"
           }
          ],
          "scatter3d": [
           {
            "line": {
             "colorbar": {
              "outlinewidth": 0,
              "ticks": ""
             }
            },
            "marker": {
             "colorbar": {
              "outlinewidth": 0,
              "ticks": ""
             }
            },
            "type": "scatter3d"
           }
          ],
          "scattercarpet": [
           {
            "marker": {
             "colorbar": {
              "outlinewidth": 0,
              "ticks": ""
             }
            },
            "type": "scattercarpet"
           }
          ],
          "scattergeo": [
           {
            "marker": {
             "colorbar": {
              "outlinewidth": 0,
              "ticks": ""
             }
            },
            "type": "scattergeo"
           }
          ],
          "scattergl": [
           {
            "marker": {
             "colorbar": {
              "outlinewidth": 0,
              "ticks": ""
             }
            },
            "type": "scattergl"
           }
          ],
          "scattermapbox": [
           {
            "marker": {
             "colorbar": {
              "outlinewidth": 0,
              "ticks": ""
             }
            },
            "type": "scattermapbox"
           }
          ],
          "scatterpolar": [
           {
            "marker": {
             "colorbar": {
              "outlinewidth": 0,
              "ticks": ""
             }
            },
            "type": "scatterpolar"
           }
          ],
          "scatterpolargl": [
           {
            "marker": {
             "colorbar": {
              "outlinewidth": 0,
              "ticks": ""
             }
            },
            "type": "scatterpolargl"
           }
          ],
          "scatterternary": [
           {
            "marker": {
             "colorbar": {
              "outlinewidth": 0,
              "ticks": ""
             }
            },
            "type": "scatterternary"
           }
          ],
          "surface": [
           {
            "colorbar": {
             "outlinewidth": 0,
             "ticks": ""
            },
            "colorscale": [
             [
              0,
              "#0d0887"
             ],
             [
              0.1111111111111111,
              "#46039f"
             ],
             [
              0.2222222222222222,
              "#7201a8"
             ],
             [
              0.3333333333333333,
              "#9c179e"
             ],
             [
              0.4444444444444444,
              "#bd3786"
             ],
             [
              0.5555555555555556,
              "#d8576b"
             ],
             [
              0.6666666666666666,
              "#ed7953"
             ],
             [
              0.7777777777777778,
              "#fb9f3a"
             ],
             [
              0.8888888888888888,
              "#fdca26"
             ],
             [
              1,
              "#f0f921"
             ]
            ],
            "type": "surface"
           }
          ],
          "table": [
           {
            "cells": {
             "fill": {
              "color": "#EBF0F8"
             },
             "line": {
              "color": "white"
             }
            },
            "header": {
             "fill": {
              "color": "#C8D4E3"
             },
             "line": {
              "color": "white"
             }
            },
            "type": "table"
           }
          ]
         },
         "layout": {
          "annotationdefaults": {
           "arrowcolor": "#2a3f5f",
           "arrowhead": 0,
           "arrowwidth": 1
          },
          "autotypenumbers": "strict",
          "coloraxis": {
           "colorbar": {
            "outlinewidth": 0,
            "ticks": ""
           }
          },
          "colorscale": {
           "diverging": [
            [
             0,
             "#8e0152"
            ],
            [
             0.1,
             "#c51b7d"
            ],
            [
             0.2,
             "#de77ae"
            ],
            [
             0.3,
             "#f1b6da"
            ],
            [
             0.4,
             "#fde0ef"
            ],
            [
             0.5,
             "#f7f7f7"
            ],
            [
             0.6,
             "#e6f5d0"
            ],
            [
             0.7,
             "#b8e186"
            ],
            [
             0.8,
             "#7fbc41"
            ],
            [
             0.9,
             "#4d9221"
            ],
            [
             1,
             "#276419"
            ]
           ],
           "sequential": [
            [
             0,
             "#0d0887"
            ],
            [
             0.1111111111111111,
             "#46039f"
            ],
            [
             0.2222222222222222,
             "#7201a8"
            ],
            [
             0.3333333333333333,
             "#9c179e"
            ],
            [
             0.4444444444444444,
             "#bd3786"
            ],
            [
             0.5555555555555556,
             "#d8576b"
            ],
            [
             0.6666666666666666,
             "#ed7953"
            ],
            [
             0.7777777777777778,
             "#fb9f3a"
            ],
            [
             0.8888888888888888,
             "#fdca26"
            ],
            [
             1,
             "#f0f921"
            ]
           ],
           "sequentialminus": [
            [
             0,
             "#0d0887"
            ],
            [
             0.1111111111111111,
             "#46039f"
            ],
            [
             0.2222222222222222,
             "#7201a8"
            ],
            [
             0.3333333333333333,
             "#9c179e"
            ],
            [
             0.4444444444444444,
             "#bd3786"
            ],
            [
             0.5555555555555556,
             "#d8576b"
            ],
            [
             0.6666666666666666,
             "#ed7953"
            ],
            [
             0.7777777777777778,
             "#fb9f3a"
            ],
            [
             0.8888888888888888,
             "#fdca26"
            ],
            [
             1,
             "#f0f921"
            ]
           ]
          },
          "colorway": [
           "#636efa",
           "#EF553B",
           "#00cc96",
           "#ab63fa",
           "#FFA15A",
           "#19d3f3",
           "#FF6692",
           "#B6E880",
           "#FF97FF",
           "#FECB52"
          ],
          "font": {
           "color": "#2a3f5f"
          },
          "geo": {
           "bgcolor": "white",
           "lakecolor": "white",
           "landcolor": "#E5ECF6",
           "showlakes": true,
           "showland": true,
           "subunitcolor": "white"
          },
          "hoverlabel": {
           "align": "left"
          },
          "hovermode": "closest",
          "mapbox": {
           "style": "light"
          },
          "paper_bgcolor": "white",
          "plot_bgcolor": "#E5ECF6",
          "polar": {
           "angularaxis": {
            "gridcolor": "white",
            "linecolor": "white",
            "ticks": ""
           },
           "bgcolor": "#E5ECF6",
           "radialaxis": {
            "gridcolor": "white",
            "linecolor": "white",
            "ticks": ""
           }
          },
          "scene": {
           "xaxis": {
            "backgroundcolor": "#E5ECF6",
            "gridcolor": "white",
            "gridwidth": 2,
            "linecolor": "white",
            "showbackground": true,
            "ticks": "",
            "zerolinecolor": "white"
           },
           "yaxis": {
            "backgroundcolor": "#E5ECF6",
            "gridcolor": "white",
            "gridwidth": 2,
            "linecolor": "white",
            "showbackground": true,
            "ticks": "",
            "zerolinecolor": "white"
           },
           "zaxis": {
            "backgroundcolor": "#E5ECF6",
            "gridcolor": "white",
            "gridwidth": 2,
            "linecolor": "white",
            "showbackground": true,
            "ticks": "",
            "zerolinecolor": "white"
           }
          },
          "shapedefaults": {
           "line": {
            "color": "#2a3f5f"
           }
          },
          "ternary": {
           "aaxis": {
            "gridcolor": "white",
            "linecolor": "white",
            "ticks": ""
           },
           "baxis": {
            "gridcolor": "white",
            "linecolor": "white",
            "ticks": ""
           },
           "bgcolor": "#E5ECF6",
           "caxis": {
            "gridcolor": "white",
            "linecolor": "white",
            "ticks": ""
           }
          },
          "title": {
           "x": 0.05
          },
          "xaxis": {
           "automargin": true,
           "gridcolor": "white",
           "linecolor": "white",
           "ticks": "",
           "title": {
            "standoff": 15
           },
           "zerolinecolor": "white",
           "zerolinewidth": 2
          },
          "yaxis": {
           "automargin": true,
           "gridcolor": "white",
           "linecolor": "white",
           "ticks": "",
           "title": {
            "standoff": 15
           },
           "zerolinecolor": "white",
           "zerolinewidth": 2
          }
         }
        }
       }
      }
     },
     "metadata": {},
     "output_type": "display_data"
    }
   ],
   "source": [
    "trace1 = go.Scatter(\n",
    "    x = df_news_articles_stats[\"Date\"], \n",
    "    y = df_news_articles_stats[\"y\"],\n",
    "    name = \"Reach of news articles and posts\",\n",
    "    mode = 'markers',\n",
    "    text = df_news_articles_stats[\"News agency\"],\n",
    "    marker = dict(\n",
    "        color = df_news_articles_stats[\"Color\"],\n",
    "        size = df_news_articles_stats[\"Total number of engagements\"],\n",
    "        sizemode = 'area',\n",
    "        sizeref = 2.*max(df_news_articles_stats[\"Total number of engagements\"])/(40.**2),\n",
    "        sizemin = 4\n",
    "    ),\n",
    "    hovertemplate = \"Date posted: %{x}  <br>News agency: %{text} <br>Reach: %{marker.size} <extra></extra>\"\n",
    ")\n",
    "\n",
    "\n",
    "trace2 = go.Scatter(\n",
    "    x = df_number_of_tweets[\"Date\"], \n",
    "    y = df_number_of_tweets[\"Number of tweets\"],\n",
    "    marker_color=\"rgba(152, 0, 0, .8)\",\n",
    "    name = \"Number of tweets\"\n",
    ")\n",
    "\n",
    "fig = go.Figure()\n",
    "fig.add_trace(trace1)\n",
    "fig.add_trace(trace2)\n",
    "fig.update_layout(\n",
    "    hoverlabel_align = 'right')\n",
    "fig.update_layout(hovermode=\"x unified\")\n",
    "fig.show()"
   ]
  },
  {
   "cell_type": "code",
   "execution_count": 10,
   "metadata": {},
   "outputs": [],
   "source": [
    "fig.write_html(\"html/combined.html\", include_plotlyjs=\"cdn\", full_html = False)"
   ]
  },
  {
   "attachments": {},
   "cell_type": "markdown",
   "metadata": {},
   "source": [
    "Next, the number of tweets for different search terms for the period right before and after the Twitter Files were released are visualised. First, the csv files are read to dataframes."
   ]
  },
  {
   "cell_type": "code",
   "execution_count": 11,
   "metadata": {},
   "outputs": [],
   "source": [
    "df_hunter_biden_laptop = pd.read_csv(\"data/hunter_biden_laptop.csv\")\n",
    "df_hunter_biden_laptop[\"Date\"]= pd.to_datetime(df_hunter_biden_laptop[\"Date\"])\n",
    "df_hunter_biden_laptop[\"Number of tweets\"] = pd.to_numeric(df_hunter_biden_laptop[\"Number of tweets\"])\n",
    "\n",
    "df_collusion = pd.read_csv(\"data/collusion.csv\")\n",
    "df_collusion[\"Date\"]= pd.to_datetime(df_collusion[\"Date\"])\n",
    "df_collusion[\"Number of tweets\"] = pd.to_numeric(df_collusion[\"Number of tweets\"])\n",
    "\n",
    "df_dick_pics = pd.read_csv(\"data/dick_pics.csv\")\n",
    "df_dick_pics[\"Date\"]= pd.to_datetime(df_dick_pics[\"Date\"])\n",
    "df_dick_pics[\"Number of tweets\"] = pd.to_numeric(df_dick_pics[\"Number of tweets\"])\n"
   ]
  },
  {
   "attachments": {},
   "cell_type": "markdown",
   "metadata": {},
   "source": [
    "All three line plots are plotted on the same plot to be analysed together."
   ]
  },
  {
   "cell_type": "code",
   "execution_count": 12,
   "metadata": {},
   "outputs": [
    {
     "data": {
      "application/vnd.plotly.v1+json": {
       "config": {
        "plotlyServerURL": "https://plot.ly"
       },
       "data": [
        {
         "marker": {
          "color": "rgba(152, 0, 0, .8)"
         },
         "name": "Hunter Biden Laptop",
         "type": "scatter",
         "x": [
          "2022-12-02T09:00:00",
          "2022-12-02T10:00:00",
          "2022-12-02T11:00:00",
          "2022-12-02T12:00:00",
          "2022-12-02T13:00:00",
          "2022-12-02T14:00:00",
          "2022-12-02T15:00:00",
          "2022-12-02T16:00:00",
          "2022-12-02T17:00:00",
          "2022-12-02T18:00:00",
          "2022-12-02T19:00:00",
          "2022-12-02T20:00:00",
          "2022-12-02T21:00:00",
          "2022-12-02T22:00:00",
          "2022-12-02T23:00:00",
          "2022-12-03T00:00:00",
          "2022-12-03T01:00:00",
          "2022-12-03T02:00:00",
          "2022-12-03T03:00:00",
          "2022-12-03T04:00:00",
          "2022-12-03T05:00:00",
          "2022-12-03T06:00:00",
          "2022-12-03T07:00:00",
          "2022-12-03T08:00:00",
          "2022-12-03T09:00:00",
          "2022-12-03T10:00:00",
          "2022-12-03T11:00:00",
          "2022-12-03T12:00:00",
          "2022-12-03T13:00:00",
          "2022-12-03T14:00:00",
          "2022-12-03T15:00:00",
          "2022-12-03T16:00:00",
          "2022-12-03T17:00:00",
          "2022-12-03T18:00:00",
          "2022-12-03T19:00:00",
          "2022-12-03T20:00:00",
          "2022-12-03T21:00:00",
          "2022-12-03T22:00:00",
          "2022-12-03T23:00:00",
          "2022-12-04T00:00:00",
          "2022-12-04T01:00:00",
          "2022-12-04T02:00:00",
          "2022-12-04T03:00:00",
          "2022-12-04T04:00:00",
          "2022-12-04T05:00:00",
          "2022-12-04T06:00:00",
          "2022-12-04T07:00:00",
          "2022-12-04T08:00:00",
          "2022-12-04T09:00:00",
          "2022-12-04T10:00:00",
          "2022-12-04T11:00:00",
          "2022-12-04T12:00:00",
          "2022-12-04T13:00:00",
          "2022-12-04T14:00:00",
          "2022-12-04T15:00:00",
          "2022-12-04T16:00:00",
          "2022-12-04T17:00:00",
          "2022-12-04T18:00:00",
          "2022-12-04T19:00:00",
          "2022-12-04T20:00:00",
          "2022-12-04T21:00:00",
          "2022-12-04T22:00:00",
          "2022-12-04T23:00:00",
          "2022-12-05T00:00:00",
          "2022-12-05T01:00:00",
          "2022-12-05T02:00:00",
          "2022-12-05T03:00:00",
          "2022-12-05T04:00:00",
          "2022-12-05T05:00:00",
          "2022-12-05T06:00:00",
          "2022-12-05T07:00:00",
          "2022-12-05T08:00:00",
          "2022-12-05T09:00:00",
          "2022-12-05T10:00:00",
          "2022-12-05T11:00:00",
          "2022-12-05T12:00:00",
          "2022-12-05T13:00:00",
          "2022-12-05T14:00:00",
          "2022-12-05T15:00:00",
          "2022-12-05T16:00:00",
          "2022-12-05T17:00:00",
          "2022-12-05T18:00:00",
          "2022-12-05T19:00:00",
          "2022-12-05T20:00:00",
          "2022-12-05T21:00:00",
          "2022-12-05T22:00:00",
          "2022-12-05T23:00:00",
          "2022-12-06T00:00:00",
          "2022-12-06T01:00:00",
          "2022-12-06T02:00:00",
          "2022-12-06T03:00:00",
          "2022-12-06T04:00:00",
          "2022-12-06T05:00:00",
          "2022-12-06T06:00:00",
          "2022-12-06T07:00:00",
          "2022-12-06T08:00:00",
          "2022-12-06T09:00:00",
          "2022-12-06T10:00:00",
          "2022-12-06T11:00:00",
          "2022-12-06T12:00:00",
          "2022-12-06T13:00:00",
          "2022-12-06T14:00:00",
          "2022-12-06T15:00:00",
          "2022-12-06T16:00:00",
          "2022-12-06T17:00:00",
          "2022-12-06T18:00:00",
          "2022-12-06T19:00:00",
          "2022-12-06T20:00:00",
          "2022-12-06T21:00:00",
          "2022-12-06T22:00:00",
          "2022-12-06T23:00:00"
         ],
         "y": [
          419,
          436,
          453,
          427,
          333,
          374,
          567,
          2679,
          6607,
          10996,
          35673,
          31227,
          33853,
          28376,
          23709,
          17120,
          12294,
          9594,
          8695,
          7746,
          8365,
          10974,
          15080,
          22248,
          24806,
          27022,
          24864,
          22837,
          22977,
          20382,
          18431,
          18393,
          16377,
          14946,
          13050,
          12051,
          11074,
          10814,
          8632,
          6355,
          4933,
          4327,
          3694,
          3249,
          3610,
          4566,
          6130,
          8119,
          12321,
          11670,
          10923,
          11626,
          11692,
          10878,
          9957,
          10238,
          10424,
          9586,
          8729,
          8005,
          9881,
          8690,
          7079,
          4948,
          3513,
          2759,
          2442,
          2262,
          2809,
          4122,
          6083,
          8162,
          8885,
          10641,
          9777,
          8720,
          7134,
          6684,
          5751,
          5923,
          6223,
          5346,
          5520,
          5460,
          5968,
          6553,
          5107,
          3840,
          2824,
          1999,
          1816,
          1867,
          2204,
          2983,
          4070,
          6306,
          8213,
          7385,
          6189,
          5311,
          4600,
          4014,
          4259,
          6256,
          7231,
          6672,
          6397,
          5088,
          4685,
          4282,
          2713
         ]
        },
        {
         "marker": {
          "color": "#593D4A"
         },
         "name": "Collusion",
         "type": "scatter",
         "x": [
          "2022-12-02T09:00:00",
          "2022-12-02T10:00:00",
          "2022-12-02T11:00:00",
          "2022-12-02T12:00:00",
          "2022-12-02T13:00:00",
          "2022-12-02T14:00:00",
          "2022-12-02T15:00:00",
          "2022-12-02T16:00:00",
          "2022-12-02T17:00:00",
          "2022-12-02T18:00:00",
          "2022-12-02T19:00:00",
          "2022-12-02T20:00:00",
          "2022-12-02T21:00:00",
          "2022-12-02T22:00:00",
          "2022-12-02T23:00:00",
          "2022-12-03T00:00:00",
          "2022-12-03T01:00:00",
          "2022-12-03T02:00:00",
          "2022-12-03T03:00:00",
          "2022-12-03T04:00:00",
          "2022-12-03T05:00:00",
          "2022-12-03T06:00:00",
          "2022-12-03T07:00:00",
          "2022-12-03T08:00:00",
          "2022-12-03T09:00:00",
          "2022-12-03T10:00:00",
          "2022-12-03T11:00:00",
          "2022-12-03T12:00:00",
          "2022-12-03T13:00:00",
          "2022-12-03T14:00:00",
          "2022-12-03T15:00:00",
          "2022-12-03T16:00:00",
          "2022-12-03T17:00:00",
          "2022-12-03T18:00:00",
          "2022-12-03T19:00:00",
          "2022-12-03T20:00:00",
          "2022-12-03T21:00:00",
          "2022-12-03T22:00:00",
          "2022-12-03T23:00:00",
          "2022-12-04T00:00:00",
          "2022-12-04T01:00:00",
          "2022-12-04T02:00:00",
          "2022-12-04T03:00:00",
          "2022-12-04T04:00:00",
          "2022-12-04T05:00:00",
          "2022-12-04T06:00:00",
          "2022-12-04T07:00:00",
          "2022-12-04T08:00:00",
          "2022-12-04T09:00:00",
          "2022-12-04T10:00:00",
          "2022-12-04T11:00:00",
          "2022-12-04T12:00:00",
          "2022-12-04T13:00:00",
          "2022-12-04T14:00:00",
          "2022-12-04T15:00:00",
          "2022-12-04T16:00:00",
          "2022-12-04T17:00:00",
          "2022-12-04T18:00:00",
          "2022-12-04T19:00:00",
          "2022-12-04T20:00:00",
          "2022-12-04T21:00:00",
          "2022-12-04T22:00:00",
          "2022-12-04T23:00:00",
          "2022-12-05T00:00:00",
          "2022-12-05T01:00:00",
          "2022-12-05T02:00:00",
          "2022-12-05T03:00:00",
          "2022-12-05T04:00:00",
          "2022-12-05T05:00:00",
          "2022-12-05T06:00:00",
          "2022-12-05T07:00:00",
          "2022-12-05T08:00:00",
          "2022-12-05T09:00:00",
          "2022-12-05T10:00:00",
          "2022-12-05T11:00:00",
          "2022-12-05T12:00:00",
          "2022-12-05T13:00:00",
          "2022-12-05T14:00:00",
          "2022-12-05T15:00:00",
          "2022-12-05T16:00:00",
          "2022-12-05T17:00:00",
          "2022-12-05T18:00:00",
          "2022-12-05T19:00:00",
          "2022-12-05T20:00:00",
          "2022-12-05T21:00:00",
          "2022-12-05T22:00:00",
          "2022-12-05T23:00:00",
          "2022-12-06T00:00:00",
          "2022-12-06T01:00:00",
          "2022-12-06T02:00:00",
          "2022-12-06T03:00:00",
          "2022-12-06T04:00:00",
          "2022-12-06T05:00:00",
          "2022-12-06T06:00:00",
          "2022-12-06T07:00:00",
          "2022-12-06T08:00:00",
          "2022-12-06T09:00:00",
          "2022-12-06T10:00:00",
          "2022-12-06T11:00:00",
          "2022-12-06T12:00:00",
          "2022-12-06T13:00:00",
          "2022-12-06T14:00:00",
          "2022-12-06T15:00:00",
          "2022-12-06T16:00:00",
          "2022-12-06T17:00:00",
          "2022-12-06T18:00:00",
          "2022-12-06T19:00:00",
          "2022-12-06T20:00:00",
          "2022-12-06T21:00:00",
          "2022-12-06T22:00:00",
          "2022-12-06T23:00:00"
         ],
         "y": [
          297,
          313,
          347,
          314,
          250,
          303,
          335,
          427,
          506,
          3704,
          4110,
          7928,
          12131,
          11316,
          6834,
          4934,
          3458,
          2403,
          1817,
          1741,
          1878,
          2686,
          4638,
          5695,
          6582,
          5854,
          6700,
          7669,
          7398,
          5985,
          5658,
          5264,
          5127,
          4898,
          4248,
          4441,
          3595,
          3065,
          2564,
          1888,
          1375,
          1029,
          887,
          789,
          933,
          1229,
          1603,
          2905,
          3571,
          3008,
          2836,
          2932,
          2395,
          2949,
          2528,
          2279,
          2157,
          1934,
          1775,
          1661,
          1689,
          1359,
          1941,
          1346,
          1152,
          909,
          823,
          781,
          971,
          1179,
          1853,
          1941,
          1989,
          2351,
          2266,
          2521,
          2405,
          2253,
          2135,
          2310,
          2163,
          1883,
          1769,
          1663,
          1817,
          1786,
          1206,
          791,
          644,
          451,
          416,
          520,
          593,
          769,
          1906,
          2477,
          2459,
          2096,
          1705,
          1559,
          1103,
          1106,
          1071,
          1432,
          1941,
          3887,
          6351,
          4437,
          3308,
          2674,
          1976
         ]
        },
        {
         "marker": {
          "color": "rgb(163, 11, 193)"
         },
         "name": "Dick Pics",
         "type": "scatter",
         "x": [
          "2022-12-02T09:00:00",
          "2022-12-02T10:00:00",
          "2022-12-02T11:00:00",
          "2022-12-02T12:00:00",
          "2022-12-02T13:00:00",
          "2022-12-02T14:00:00",
          "2022-12-02T15:00:00",
          "2022-12-02T16:00:00",
          "2022-12-02T17:00:00",
          "2022-12-02T18:00:00",
          "2022-12-02T19:00:00",
          "2022-12-02T20:00:00",
          "2022-12-02T21:00:00",
          "2022-12-02T22:00:00",
          "2022-12-02T23:00:00",
          "2022-12-03T00:00:00",
          "2022-12-03T01:00:00",
          "2022-12-03T02:00:00",
          "2022-12-03T03:00:00",
          "2022-12-03T04:00:00",
          "2022-12-03T05:00:00",
          "2022-12-03T06:00:00",
          "2022-12-03T07:00:00",
          "2022-12-03T08:00:00",
          "2022-12-03T09:00:00",
          "2022-12-03T10:00:00",
          "2022-12-03T11:00:00",
          "2022-12-03T12:00:00",
          "2022-12-03T13:00:00",
          "2022-12-03T14:00:00",
          "2022-12-03T15:00:00",
          "2022-12-03T16:00:00",
          "2022-12-03T17:00:00",
          "2022-12-03T18:00:00",
          "2022-12-03T19:00:00",
          "2022-12-03T20:00:00",
          "2022-12-03T21:00:00",
          "2022-12-03T22:00:00",
          "2022-12-03T23:00:00",
          "2022-12-04T00:00:00",
          "2022-12-04T01:00:00",
          "2022-12-04T02:00:00",
          "2022-12-04T03:00:00",
          "2022-12-04T04:00:00",
          "2022-12-04T05:00:00",
          "2022-12-04T06:00:00",
          "2022-12-04T07:00:00",
          "2022-12-04T08:00:00",
          "2022-12-04T09:00:00",
          "2022-12-04T10:00:00",
          "2022-12-04T11:00:00",
          "2022-12-04T12:00:00",
          "2022-12-04T13:00:00",
          "2022-12-04T14:00:00",
          "2022-12-04T15:00:00",
          "2022-12-04T16:00:00",
          "2022-12-04T17:00:00",
          "2022-12-04T18:00:00",
          "2022-12-04T19:00:00",
          "2022-12-04T20:00:00",
          "2022-12-04T21:00:00",
          "2022-12-04T22:00:00",
          "2022-12-04T23:00:00",
          "2022-12-05T00:00:00",
          "2022-12-05T01:00:00",
          "2022-12-05T02:00:00",
          "2022-12-05T03:00:00",
          "2022-12-05T04:00:00",
          "2022-12-05T05:00:00",
          "2022-12-05T06:00:00",
          "2022-12-05T07:00:00",
          "2022-12-05T08:00:00",
          "2022-12-05T09:00:00",
          "2022-12-05T10:00:00",
          "2022-12-05T11:00:00",
          "2022-12-05T12:00:00",
          "2022-12-05T13:00:00",
          "2022-12-05T14:00:00",
          "2022-12-05T15:00:00",
          "2022-12-05T16:00:00",
          "2022-12-05T17:00:00",
          "2022-12-05T18:00:00",
          "2022-12-05T19:00:00",
          "2022-12-05T20:00:00",
          "2022-12-05T21:00:00",
          "2022-12-05T22:00:00",
          "2022-12-05T23:00:00",
          "2022-12-06T00:00:00",
          "2022-12-06T01:00:00",
          "2022-12-06T02:00:00",
          "2022-12-06T03:00:00",
          "2022-12-06T04:00:00",
          "2022-12-06T05:00:00",
          "2022-12-06T06:00:00",
          "2022-12-06T07:00:00",
          "2022-12-06T08:00:00",
          "2022-12-06T09:00:00",
          "2022-12-06T10:00:00",
          "2022-12-06T11:00:00",
          "2022-12-06T12:00:00",
          "2022-12-06T13:00:00",
          "2022-12-06T14:00:00",
          "2022-12-06T15:00:00",
          "2022-12-06T16:00:00",
          "2022-12-06T17:00:00",
          "2022-12-06T18:00:00",
          "2022-12-06T19:00:00",
          "2022-12-06T20:00:00",
          "2022-12-06T21:00:00",
          "2022-12-06T22:00:00",
          "2022-12-06T23:00:00"
         ],
         "y": [
          197,
          153,
          179,
          228,
          199,
          182,
          183,
          279,
          236,
          205,
          1096,
          1795,
          2096,
          2423,
          2221,
          2074,
          1425,
          945,
          753,
          777,
          752,
          735,
          1242,
          1862,
          2306,
          3356,
          4137,
          4122,
          3812,
          4582,
          4531,
          4107,
          4085,
          3710,
          3110,
          2749,
          2451,
          2133,
          1939,
          1592,
          1234,
          918,
          716,
          698,
          706,
          1013,
          1325,
          1950,
          2458,
          2511,
          2210,
          2359,
          2533,
          1959,
          1786,
          1532,
          1525,
          1505,
          1212,
          1105,
          1176,
          874,
          868,
          680,
          501,
          435,
          329,
          280,
          310,
          420,
          712,
          841,
          972,
          980,
          1196,
          1135,
          1216,
          1022,
          1134,
          967,
          1076,
          802,
          785,
          878,
          1457,
          1230,
          1103,
          948,
          897,
          550,
          449,
          396,
          462,
          703,
          896,
          1250,
          1411,
          1230,
          1069,
          1045,
          1107,
          934,
          873,
          1305,
          1140,
          1082,
          1018,
          915,
          778,
          678,
          574
         ]
        }
       ],
       "layout": {
        "hoverlabel": {
         "align": "right"
        },
        "hovermode": "x unified",
        "template": {
         "data": {
          "bar": [
           {
            "error_x": {
             "color": "#2a3f5f"
            },
            "error_y": {
             "color": "#2a3f5f"
            },
            "marker": {
             "line": {
              "color": "#E5ECF6",
              "width": 0.5
             },
             "pattern": {
              "fillmode": "overlay",
              "size": 10,
              "solidity": 0.2
             }
            },
            "type": "bar"
           }
          ],
          "barpolar": [
           {
            "marker": {
             "line": {
              "color": "#E5ECF6",
              "width": 0.5
             },
             "pattern": {
              "fillmode": "overlay",
              "size": 10,
              "solidity": 0.2
             }
            },
            "type": "barpolar"
           }
          ],
          "carpet": [
           {
            "aaxis": {
             "endlinecolor": "#2a3f5f",
             "gridcolor": "white",
             "linecolor": "white",
             "minorgridcolor": "white",
             "startlinecolor": "#2a3f5f"
            },
            "baxis": {
             "endlinecolor": "#2a3f5f",
             "gridcolor": "white",
             "linecolor": "white",
             "minorgridcolor": "white",
             "startlinecolor": "#2a3f5f"
            },
            "type": "carpet"
           }
          ],
          "choropleth": [
           {
            "colorbar": {
             "outlinewidth": 0,
             "ticks": ""
            },
            "type": "choropleth"
           }
          ],
          "contour": [
           {
            "colorbar": {
             "outlinewidth": 0,
             "ticks": ""
            },
            "colorscale": [
             [
              0,
              "#0d0887"
             ],
             [
              0.1111111111111111,
              "#46039f"
             ],
             [
              0.2222222222222222,
              "#7201a8"
             ],
             [
              0.3333333333333333,
              "#9c179e"
             ],
             [
              0.4444444444444444,
              "#bd3786"
             ],
             [
              0.5555555555555556,
              "#d8576b"
             ],
             [
              0.6666666666666666,
              "#ed7953"
             ],
             [
              0.7777777777777778,
              "#fb9f3a"
             ],
             [
              0.8888888888888888,
              "#fdca26"
             ],
             [
              1,
              "#f0f921"
             ]
            ],
            "type": "contour"
           }
          ],
          "contourcarpet": [
           {
            "colorbar": {
             "outlinewidth": 0,
             "ticks": ""
            },
            "type": "contourcarpet"
           }
          ],
          "heatmap": [
           {
            "colorbar": {
             "outlinewidth": 0,
             "ticks": ""
            },
            "colorscale": [
             [
              0,
              "#0d0887"
             ],
             [
              0.1111111111111111,
              "#46039f"
             ],
             [
              0.2222222222222222,
              "#7201a8"
             ],
             [
              0.3333333333333333,
              "#9c179e"
             ],
             [
              0.4444444444444444,
              "#bd3786"
             ],
             [
              0.5555555555555556,
              "#d8576b"
             ],
             [
              0.6666666666666666,
              "#ed7953"
             ],
             [
              0.7777777777777778,
              "#fb9f3a"
             ],
             [
              0.8888888888888888,
              "#fdca26"
             ],
             [
              1,
              "#f0f921"
             ]
            ],
            "type": "heatmap"
           }
          ],
          "heatmapgl": [
           {
            "colorbar": {
             "outlinewidth": 0,
             "ticks": ""
            },
            "colorscale": [
             [
              0,
              "#0d0887"
             ],
             [
              0.1111111111111111,
              "#46039f"
             ],
             [
              0.2222222222222222,
              "#7201a8"
             ],
             [
              0.3333333333333333,
              "#9c179e"
             ],
             [
              0.4444444444444444,
              "#bd3786"
             ],
             [
              0.5555555555555556,
              "#d8576b"
             ],
             [
              0.6666666666666666,
              "#ed7953"
             ],
             [
              0.7777777777777778,
              "#fb9f3a"
             ],
             [
              0.8888888888888888,
              "#fdca26"
             ],
             [
              1,
              "#f0f921"
             ]
            ],
            "type": "heatmapgl"
           }
          ],
          "histogram": [
           {
            "marker": {
             "pattern": {
              "fillmode": "overlay",
              "size": 10,
              "solidity": 0.2
             }
            },
            "type": "histogram"
           }
          ],
          "histogram2d": [
           {
            "colorbar": {
             "outlinewidth": 0,
             "ticks": ""
            },
            "colorscale": [
             [
              0,
              "#0d0887"
             ],
             [
              0.1111111111111111,
              "#46039f"
             ],
             [
              0.2222222222222222,
              "#7201a8"
             ],
             [
              0.3333333333333333,
              "#9c179e"
             ],
             [
              0.4444444444444444,
              "#bd3786"
             ],
             [
              0.5555555555555556,
              "#d8576b"
             ],
             [
              0.6666666666666666,
              "#ed7953"
             ],
             [
              0.7777777777777778,
              "#fb9f3a"
             ],
             [
              0.8888888888888888,
              "#fdca26"
             ],
             [
              1,
              "#f0f921"
             ]
            ],
            "type": "histogram2d"
           }
          ],
          "histogram2dcontour": [
           {
            "colorbar": {
             "outlinewidth": 0,
             "ticks": ""
            },
            "colorscale": [
             [
              0,
              "#0d0887"
             ],
             [
              0.1111111111111111,
              "#46039f"
             ],
             [
              0.2222222222222222,
              "#7201a8"
             ],
             [
              0.3333333333333333,
              "#9c179e"
             ],
             [
              0.4444444444444444,
              "#bd3786"
             ],
             [
              0.5555555555555556,
              "#d8576b"
             ],
             [
              0.6666666666666666,
              "#ed7953"
             ],
             [
              0.7777777777777778,
              "#fb9f3a"
             ],
             [
              0.8888888888888888,
              "#fdca26"
             ],
             [
              1,
              "#f0f921"
             ]
            ],
            "type": "histogram2dcontour"
           }
          ],
          "mesh3d": [
           {
            "colorbar": {
             "outlinewidth": 0,
             "ticks": ""
            },
            "type": "mesh3d"
           }
          ],
          "parcoords": [
           {
            "line": {
             "colorbar": {
              "outlinewidth": 0,
              "ticks": ""
             }
            },
            "type": "parcoords"
           }
          ],
          "pie": [
           {
            "automargin": true,
            "type": "pie"
           }
          ],
          "scatter": [
           {
            "marker": {
             "colorbar": {
              "outlinewidth": 0,
              "ticks": ""
             }
            },
            "type": "scatter"
           }
          ],
          "scatter3d": [
           {
            "line": {
             "colorbar": {
              "outlinewidth": 0,
              "ticks": ""
             }
            },
            "marker": {
             "colorbar": {
              "outlinewidth": 0,
              "ticks": ""
             }
            },
            "type": "scatter3d"
           }
          ],
          "scattercarpet": [
           {
            "marker": {
             "colorbar": {
              "outlinewidth": 0,
              "ticks": ""
             }
            },
            "type": "scattercarpet"
           }
          ],
          "scattergeo": [
           {
            "marker": {
             "colorbar": {
              "outlinewidth": 0,
              "ticks": ""
             }
            },
            "type": "scattergeo"
           }
          ],
          "scattergl": [
           {
            "marker": {
             "colorbar": {
              "outlinewidth": 0,
              "ticks": ""
             }
            },
            "type": "scattergl"
           }
          ],
          "scattermapbox": [
           {
            "marker": {
             "colorbar": {
              "outlinewidth": 0,
              "ticks": ""
             }
            },
            "type": "scattermapbox"
           }
          ],
          "scatterpolar": [
           {
            "marker": {
             "colorbar": {
              "outlinewidth": 0,
              "ticks": ""
             }
            },
            "type": "scatterpolar"
           }
          ],
          "scatterpolargl": [
           {
            "marker": {
             "colorbar": {
              "outlinewidth": 0,
              "ticks": ""
             }
            },
            "type": "scatterpolargl"
           }
          ],
          "scatterternary": [
           {
            "marker": {
             "colorbar": {
              "outlinewidth": 0,
              "ticks": ""
             }
            },
            "type": "scatterternary"
           }
          ],
          "surface": [
           {
            "colorbar": {
             "outlinewidth": 0,
             "ticks": ""
            },
            "colorscale": [
             [
              0,
              "#0d0887"
             ],
             [
              0.1111111111111111,
              "#46039f"
             ],
             [
              0.2222222222222222,
              "#7201a8"
             ],
             [
              0.3333333333333333,
              "#9c179e"
             ],
             [
              0.4444444444444444,
              "#bd3786"
             ],
             [
              0.5555555555555556,
              "#d8576b"
             ],
             [
              0.6666666666666666,
              "#ed7953"
             ],
             [
              0.7777777777777778,
              "#fb9f3a"
             ],
             [
              0.8888888888888888,
              "#fdca26"
             ],
             [
              1,
              "#f0f921"
             ]
            ],
            "type": "surface"
           }
          ],
          "table": [
           {
            "cells": {
             "fill": {
              "color": "#EBF0F8"
             },
             "line": {
              "color": "white"
             }
            },
            "header": {
             "fill": {
              "color": "#C8D4E3"
             },
             "line": {
              "color": "white"
             }
            },
            "type": "table"
           }
          ]
         },
         "layout": {
          "annotationdefaults": {
           "arrowcolor": "#2a3f5f",
           "arrowhead": 0,
           "arrowwidth": 1
          },
          "autotypenumbers": "strict",
          "coloraxis": {
           "colorbar": {
            "outlinewidth": 0,
            "ticks": ""
           }
          },
          "colorscale": {
           "diverging": [
            [
             0,
             "#8e0152"
            ],
            [
             0.1,
             "#c51b7d"
            ],
            [
             0.2,
             "#de77ae"
            ],
            [
             0.3,
             "#f1b6da"
            ],
            [
             0.4,
             "#fde0ef"
            ],
            [
             0.5,
             "#f7f7f7"
            ],
            [
             0.6,
             "#e6f5d0"
            ],
            [
             0.7,
             "#b8e186"
            ],
            [
             0.8,
             "#7fbc41"
            ],
            [
             0.9,
             "#4d9221"
            ],
            [
             1,
             "#276419"
            ]
           ],
           "sequential": [
            [
             0,
             "#0d0887"
            ],
            [
             0.1111111111111111,
             "#46039f"
            ],
            [
             0.2222222222222222,
             "#7201a8"
            ],
            [
             0.3333333333333333,
             "#9c179e"
            ],
            [
             0.4444444444444444,
             "#bd3786"
            ],
            [
             0.5555555555555556,
             "#d8576b"
            ],
            [
             0.6666666666666666,
             "#ed7953"
            ],
            [
             0.7777777777777778,
             "#fb9f3a"
            ],
            [
             0.8888888888888888,
             "#fdca26"
            ],
            [
             1,
             "#f0f921"
            ]
           ],
           "sequentialminus": [
            [
             0,
             "#0d0887"
            ],
            [
             0.1111111111111111,
             "#46039f"
            ],
            [
             0.2222222222222222,
             "#7201a8"
            ],
            [
             0.3333333333333333,
             "#9c179e"
            ],
            [
             0.4444444444444444,
             "#bd3786"
            ],
            [
             0.5555555555555556,
             "#d8576b"
            ],
            [
             0.6666666666666666,
             "#ed7953"
            ],
            [
             0.7777777777777778,
             "#fb9f3a"
            ],
            [
             0.8888888888888888,
             "#fdca26"
            ],
            [
             1,
             "#f0f921"
            ]
           ]
          },
          "colorway": [
           "#636efa",
           "#EF553B",
           "#00cc96",
           "#ab63fa",
           "#FFA15A",
           "#19d3f3",
           "#FF6692",
           "#B6E880",
           "#FF97FF",
           "#FECB52"
          ],
          "font": {
           "color": "#2a3f5f"
          },
          "geo": {
           "bgcolor": "white",
           "lakecolor": "white",
           "landcolor": "#E5ECF6",
           "showlakes": true,
           "showland": true,
           "subunitcolor": "white"
          },
          "hoverlabel": {
           "align": "left"
          },
          "hovermode": "closest",
          "mapbox": {
           "style": "light"
          },
          "paper_bgcolor": "white",
          "plot_bgcolor": "#E5ECF6",
          "polar": {
           "angularaxis": {
            "gridcolor": "white",
            "linecolor": "white",
            "ticks": ""
           },
           "bgcolor": "#E5ECF6",
           "radialaxis": {
            "gridcolor": "white",
            "linecolor": "white",
            "ticks": ""
           }
          },
          "scene": {
           "xaxis": {
            "backgroundcolor": "#E5ECF6",
            "gridcolor": "white",
            "gridwidth": 2,
            "linecolor": "white",
            "showbackground": true,
            "ticks": "",
            "zerolinecolor": "white"
           },
           "yaxis": {
            "backgroundcolor": "#E5ECF6",
            "gridcolor": "white",
            "gridwidth": 2,
            "linecolor": "white",
            "showbackground": true,
            "ticks": "",
            "zerolinecolor": "white"
           },
           "zaxis": {
            "backgroundcolor": "#E5ECF6",
            "gridcolor": "white",
            "gridwidth": 2,
            "linecolor": "white",
            "showbackground": true,
            "ticks": "",
            "zerolinecolor": "white"
           }
          },
          "shapedefaults": {
           "line": {
            "color": "#2a3f5f"
           }
          },
          "ternary": {
           "aaxis": {
            "gridcolor": "white",
            "linecolor": "white",
            "ticks": ""
           },
           "baxis": {
            "gridcolor": "white",
            "linecolor": "white",
            "ticks": ""
           },
           "bgcolor": "#E5ECF6",
           "caxis": {
            "gridcolor": "white",
            "linecolor": "white",
            "ticks": ""
           }
          },
          "title": {
           "x": 0.05
          },
          "xaxis": {
           "automargin": true,
           "gridcolor": "white",
           "linecolor": "white",
           "ticks": "",
           "title": {
            "standoff": 15
           },
           "zerolinecolor": "white",
           "zerolinewidth": 2
          },
          "yaxis": {
           "automargin": true,
           "gridcolor": "white",
           "linecolor": "white",
           "ticks": "",
           "title": {
            "standoff": 15
           },
           "zerolinecolor": "white",
           "zerolinewidth": 2
          }
         }
        }
       }
      }
     },
     "metadata": {},
     "output_type": "display_data"
    }
   ],
   "source": [
    "trace1 = go.Scatter(\n",
    "    x = df_hunter_biden_laptop[\"Date\"], \n",
    "    y = df_hunter_biden_laptop[\"Number of tweets\"],\n",
    "    marker_color=\"rgba(152, 0, 0, .8)\",\n",
    "    name = \"Hunter Biden Laptop\"\n",
    ")\n",
    "\n",
    "\n",
    "trace2 = go.Scatter(\n",
    "    x = df_collusion[\"Date\"], \n",
    "    y = df_collusion[\"Number of tweets\"],\n",
    "    marker_color=\"#593D4A\",\n",
    "    name = \"Collusion\"\n",
    ")\n",
    "\n",
    "trace3 = go.Scatter(\n",
    "    x = df_dick_pics[\"Date\"], \n",
    "    y = df_dick_pics[\"Number of tweets\"],\n",
    "    marker_color=\"rgb(163, 11, 193)\",\n",
    "    name = \"Dick Pics\"\n",
    ")\n",
    "\n",
    "fig = go.Figure()\n",
    "fig.add_trace(trace1)\n",
    "fig.add_trace(trace2)\n",
    "fig.add_trace(trace3)\n",
    "fig.update_layout(\n",
    "    hoverlabel_align = 'right')\n",
    "fig.update_layout(hovermode=\"x unified\")\n",
    "fig.show()"
   ]
  },
  {
   "cell_type": "code",
   "execution_count": 13,
   "metadata": {},
   "outputs": [],
   "source": [
    "fig.write_html(\"html/twitter_files.html\", include_plotlyjs=\"cdn\", full_html = False)"
   ]
  }
 ],
 "metadata": {
  "kernelspec": {
   "display_name": "Python 3.8.5 ('base')",
   "language": "python",
   "name": "python3"
  },
  "language_info": {
   "codemirror_mode": {
    "name": "ipython",
    "version": 3
   },
   "file_extension": ".py",
   "mimetype": "text/x-python",
   "name": "python",
   "nbconvert_exporter": "python",
   "pygments_lexer": "ipython3",
   "version": "3.8.5"
  },
  "orig_nbformat": 4,
  "vscode": {
   "interpreter": {
    "hash": "40d3a090f54c6569ab1632332b64b2c03c39dcf918b08424e98f38b5ae0af88f"
   }
  }
 },
 "nbformat": 4,
 "nbformat_minor": 2
}
