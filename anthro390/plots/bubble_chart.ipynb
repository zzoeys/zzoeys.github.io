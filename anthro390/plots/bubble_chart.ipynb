{
 "cells": [
  {
   "cell_type": "code",
   "execution_count": 91,
   "metadata": {},
   "outputs": [],
   "source": [
    "import plotly.graph_objects as go\n",
    "import plotly.express as px\n",
    "import pandas as pd\n",
    "from plotly.subplots import make_subplots"
   ]
  },
  {
   "cell_type": "markdown",
   "metadata": {},
   "source": [
    "Read the dataframe. Then, convert the date column to datetime format and the number of total engagements and number of tweets column to integer format."
   ]
  },
  {
   "cell_type": "code",
   "execution_count": 92,
   "metadata": {},
   "outputs": [],
   "source": [
    "df_news_articles_stats = pd.read_csv(\"data/news_articles_stats.csv\")\n",
    "df_news_articles_stats[\"Date\"]= pd.to_datetime(df_news_articles_stats[\"Date\"])\n",
    "df_news_articles_stats[\"Total number of engagements\"] = pd.to_numeric(df_news_articles_stats[\"Total number of engagements\"])\n",
    "\n",
    "df_number_of_tweets = pd.read_csv(\"data/number_of_tweets.csv\")\n",
    "df_number_of_tweets[\"Date\"]= pd.to_datetime(df_number_of_tweets[\"Date\"])\n",
    "df_number_of_tweets[\"Number of tweets\"] = pd.to_numeric(df_number_of_tweets[\"Number of tweets\"])"
   ]
  },
  {
   "cell_type": "markdown",
   "metadata": {},
   "source": [
    "Checking the data types."
   ]
  },
  {
   "cell_type": "code",
   "execution_count": 93,
   "metadata": {},
   "outputs": [
    {
     "name": "stdout",
     "output_type": "stream",
     "text": [
      "<class 'pandas.core.frame.DataFrame'>\n",
      "RangeIndex: 10 entries, 0 to 9\n",
      "Data columns (total 14 columns):\n",
      " #   Column                                 Non-Null Count  Dtype         \n",
      "---  ------                                 --------------  -----         \n",
      " 0   Date                                   10 non-null     datetime64[ns]\n",
      " 1   News agency                            10 non-null     object        \n",
      " 2   Color                                  9 non-null      object        \n",
      " 3   Article title                          10 non-null     object        \n",
      " 4   Notes                                  2 non-null      object        \n",
      " 5   Number of Facebook engagements         7 non-null      object        \n",
      " 6   Number of Twitter shares               7 non-null      object        \n",
      " 7   Number of Twitter retweets and linkes  1 non-null      float64       \n",
      " 8   Number of Reddit engagements           6 non-null      float64       \n",
      " 9   Youtube views                          1 non-null      float64       \n",
      " 10  Cable news views                       1 non-null      float64       \n",
      " 11  Total number of engagements            10 non-null     int64         \n",
      " 12  Article link                           10 non-null     object        \n",
      " 13  y                                      10 non-null     int64         \n",
      "dtypes: datetime64[ns](1), float64(4), int64(2), object(7)\n",
      "memory usage: 1.2+ KB\n",
      "<class 'pandas.core.frame.DataFrame'>\n",
      "RangeIndex: 168 entries, 0 to 167\n",
      "Data columns (total 2 columns):\n",
      " #   Column            Non-Null Count  Dtype         \n",
      "---  ------            --------------  -----         \n",
      " 0   Date              168 non-null    datetime64[ns]\n",
      " 1   Number of tweets  168 non-null    int64         \n",
      "dtypes: datetime64[ns](1), int64(1)\n",
      "memory usage: 2.8 KB\n"
     ]
    }
   ],
   "source": [
    "df_news_articles_stats.info()\n",
    "df_number_of_tweets.info()"
   ]
  },
  {
   "cell_type": "markdown",
   "metadata": {},
   "source": [
    "Create a diagram of the reach of news reportings and notable Twitter posts."
   ]
  },
  {
   "cell_type": "code",
   "execution_count": 94,
   "metadata": {},
   "outputs": [
    {
     "data": {
      "application/vnd.plotly.v1+json": {
       "config": {
        "plotlyServerURL": "https://plot.ly"
       },
       "data": [
        {
         "hovertemplate": "News agency: %{text} <br>Reach: %{marker.size} <extra></extra>",
         "marker": {
          "color": [
           "rgb(239, 177, 65)",
           "rgb(47, 141, 216)",
           "rgb(7, 50, 99)",
           "rgb(7, 50, 99)",
           "rgb(199, 54, 54)",
           "rgb(239, 177, 65)",
           null,
           "rgb(239, 177, 65)",
           "rgb(53, 80, 161)",
           "rgb(199, 54, 54)"
          ],
          "size": [
           6513,
           203914,
           1657,
           16543,
           27496,
           113264,
           2831,
           2530000,
           14961,
           633
          ],
          "sizemin": 4,
          "sizemode": "area",
          "sizeref": 3162.5
         },
         "mode": "markers",
         "name": "Reach of news articles and posts",
         "text": [
          "CBS",
          "Elon Musk's Twitter",
          "Fox News",
          "Fox News",
          "New York Post",
          "CBS Mornings Youtube Channel ",
          "Washington Post",
          "CBS Mornings",
          "Newsmax",
          "New York Post"
         ],
         "type": "scatter",
         "x": [
          "2022-11-21T18:14:00",
          "2022-11-23T22:38:00",
          "2022-11-22T08:26:00",
          "2022-11-24T15:04:00",
          "2022-11-21T16:49:00",
          "2022-11-21T08:39:59",
          "2022-11-23T02:00:00",
          "2022-11-21T07:30:00",
          "2022-11-24T07:29:00",
          "2022-11-25T18:07:00"
         ],
         "y": [
          14000,
          14000,
          14000,
          14000,
          14000,
          14000,
          14000,
          14000,
          14000,
          14000
         ]
        }
       ],
       "layout": {
        "paper_bgcolor": "rgb(0,0,0,0)",
        "plot_bgcolor": "rgb(0,0,0,0)",
        "template": {
         "data": {
          "bar": [
           {
            "error_x": {
             "color": "#2a3f5f"
            },
            "error_y": {
             "color": "#2a3f5f"
            },
            "marker": {
             "line": {
              "color": "#E5ECF6",
              "width": 0.5
             },
             "pattern": {
              "fillmode": "overlay",
              "size": 10,
              "solidity": 0.2
             }
            },
            "type": "bar"
           }
          ],
          "barpolar": [
           {
            "marker": {
             "line": {
              "color": "#E5ECF6",
              "width": 0.5
             },
             "pattern": {
              "fillmode": "overlay",
              "size": 10,
              "solidity": 0.2
             }
            },
            "type": "barpolar"
           }
          ],
          "carpet": [
           {
            "aaxis": {
             "endlinecolor": "#2a3f5f",
             "gridcolor": "white",
             "linecolor": "white",
             "minorgridcolor": "white",
             "startlinecolor": "#2a3f5f"
            },
            "baxis": {
             "endlinecolor": "#2a3f5f",
             "gridcolor": "white",
             "linecolor": "white",
             "minorgridcolor": "white",
             "startlinecolor": "#2a3f5f"
            },
            "type": "carpet"
           }
          ],
          "choropleth": [
           {
            "colorbar": {
             "outlinewidth": 0,
             "ticks": ""
            },
            "type": "choropleth"
           }
          ],
          "contour": [
           {
            "colorbar": {
             "outlinewidth": 0,
             "ticks": ""
            },
            "colorscale": [
             [
              0,
              "#0d0887"
             ],
             [
              0.1111111111111111,
              "#46039f"
             ],
             [
              0.2222222222222222,
              "#7201a8"
             ],
             [
              0.3333333333333333,
              "#9c179e"
             ],
             [
              0.4444444444444444,
              "#bd3786"
             ],
             [
              0.5555555555555556,
              "#d8576b"
             ],
             [
              0.6666666666666666,
              "#ed7953"
             ],
             [
              0.7777777777777778,
              "#fb9f3a"
             ],
             [
              0.8888888888888888,
              "#fdca26"
             ],
             [
              1,
              "#f0f921"
             ]
            ],
            "type": "contour"
           }
          ],
          "contourcarpet": [
           {
            "colorbar": {
             "outlinewidth": 0,
             "ticks": ""
            },
            "type": "contourcarpet"
           }
          ],
          "heatmap": [
           {
            "colorbar": {
             "outlinewidth": 0,
             "ticks": ""
            },
            "colorscale": [
             [
              0,
              "#0d0887"
             ],
             [
              0.1111111111111111,
              "#46039f"
             ],
             [
              0.2222222222222222,
              "#7201a8"
             ],
             [
              0.3333333333333333,
              "#9c179e"
             ],
             [
              0.4444444444444444,
              "#bd3786"
             ],
             [
              0.5555555555555556,
              "#d8576b"
             ],
             [
              0.6666666666666666,
              "#ed7953"
             ],
             [
              0.7777777777777778,
              "#fb9f3a"
             ],
             [
              0.8888888888888888,
              "#fdca26"
             ],
             [
              1,
              "#f0f921"
             ]
            ],
            "type": "heatmap"
           }
          ],
          "heatmapgl": [
           {
            "colorbar": {
             "outlinewidth": 0,
             "ticks": ""
            },
            "colorscale": [
             [
              0,
              "#0d0887"
             ],
             [
              0.1111111111111111,
              "#46039f"
             ],
             [
              0.2222222222222222,
              "#7201a8"
             ],
             [
              0.3333333333333333,
              "#9c179e"
             ],
             [
              0.4444444444444444,
              "#bd3786"
             ],
             [
              0.5555555555555556,
              "#d8576b"
             ],
             [
              0.6666666666666666,
              "#ed7953"
             ],
             [
              0.7777777777777778,
              "#fb9f3a"
             ],
             [
              0.8888888888888888,
              "#fdca26"
             ],
             [
              1,
              "#f0f921"
             ]
            ],
            "type": "heatmapgl"
           }
          ],
          "histogram": [
           {
            "marker": {
             "pattern": {
              "fillmode": "overlay",
              "size": 10,
              "solidity": 0.2
             }
            },
            "type": "histogram"
           }
          ],
          "histogram2d": [
           {
            "colorbar": {
             "outlinewidth": 0,
             "ticks": ""
            },
            "colorscale": [
             [
              0,
              "#0d0887"
             ],
             [
              0.1111111111111111,
              "#46039f"
             ],
             [
              0.2222222222222222,
              "#7201a8"
             ],
             [
              0.3333333333333333,
              "#9c179e"
             ],
             [
              0.4444444444444444,
              "#bd3786"
             ],
             [
              0.5555555555555556,
              "#d8576b"
             ],
             [
              0.6666666666666666,
              "#ed7953"
             ],
             [
              0.7777777777777778,
              "#fb9f3a"
             ],
             [
              0.8888888888888888,
              "#fdca26"
             ],
             [
              1,
              "#f0f921"
             ]
            ],
            "type": "histogram2d"
           }
          ],
          "histogram2dcontour": [
           {
            "colorbar": {
             "outlinewidth": 0,
             "ticks": ""
            },
            "colorscale": [
             [
              0,
              "#0d0887"
             ],
             [
              0.1111111111111111,
              "#46039f"
             ],
             [
              0.2222222222222222,
              "#7201a8"
             ],
             [
              0.3333333333333333,
              "#9c179e"
             ],
             [
              0.4444444444444444,
              "#bd3786"
             ],
             [
              0.5555555555555556,
              "#d8576b"
             ],
             [
              0.6666666666666666,
              "#ed7953"
             ],
             [
              0.7777777777777778,
              "#fb9f3a"
             ],
             [
              0.8888888888888888,
              "#fdca26"
             ],
             [
              1,
              "#f0f921"
             ]
            ],
            "type": "histogram2dcontour"
           }
          ],
          "mesh3d": [
           {
            "colorbar": {
             "outlinewidth": 0,
             "ticks": ""
            },
            "type": "mesh3d"
           }
          ],
          "parcoords": [
           {
            "line": {
             "colorbar": {
              "outlinewidth": 0,
              "ticks": ""
             }
            },
            "type": "parcoords"
           }
          ],
          "pie": [
           {
            "automargin": true,
            "type": "pie"
           }
          ],
          "scatter": [
           {
            "marker": {
             "colorbar": {
              "outlinewidth": 0,
              "ticks": ""
             }
            },
            "type": "scatter"
           }
          ],
          "scatter3d": [
           {
            "line": {
             "colorbar": {
              "outlinewidth": 0,
              "ticks": ""
             }
            },
            "marker": {
             "colorbar": {
              "outlinewidth": 0,
              "ticks": ""
             }
            },
            "type": "scatter3d"
           }
          ],
          "scattercarpet": [
           {
            "marker": {
             "colorbar": {
              "outlinewidth": 0,
              "ticks": ""
             }
            },
            "type": "scattercarpet"
           }
          ],
          "scattergeo": [
           {
            "marker": {
             "colorbar": {
              "outlinewidth": 0,
              "ticks": ""
             }
            },
            "type": "scattergeo"
           }
          ],
          "scattergl": [
           {
            "marker": {
             "colorbar": {
              "outlinewidth": 0,
              "ticks": ""
             }
            },
            "type": "scattergl"
           }
          ],
          "scattermapbox": [
           {
            "marker": {
             "colorbar": {
              "outlinewidth": 0,
              "ticks": ""
             }
            },
            "type": "scattermapbox"
           }
          ],
          "scatterpolar": [
           {
            "marker": {
             "colorbar": {
              "outlinewidth": 0,
              "ticks": ""
             }
            },
            "type": "scatterpolar"
           }
          ],
          "scatterpolargl": [
           {
            "marker": {
             "colorbar": {
              "outlinewidth": 0,
              "ticks": ""
             }
            },
            "type": "scatterpolargl"
           }
          ],
          "scatterternary": [
           {
            "marker": {
             "colorbar": {
              "outlinewidth": 0,
              "ticks": ""
             }
            },
            "type": "scatterternary"
           }
          ],
          "surface": [
           {
            "colorbar": {
             "outlinewidth": 0,
             "ticks": ""
            },
            "colorscale": [
             [
              0,
              "#0d0887"
             ],
             [
              0.1111111111111111,
              "#46039f"
             ],
             [
              0.2222222222222222,
              "#7201a8"
             ],
             [
              0.3333333333333333,
              "#9c179e"
             ],
             [
              0.4444444444444444,
              "#bd3786"
             ],
             [
              0.5555555555555556,
              "#d8576b"
             ],
             [
              0.6666666666666666,
              "#ed7953"
             ],
             [
              0.7777777777777778,
              "#fb9f3a"
             ],
             [
              0.8888888888888888,
              "#fdca26"
             ],
             [
              1,
              "#f0f921"
             ]
            ],
            "type": "surface"
           }
          ],
          "table": [
           {
            "cells": {
             "fill": {
              "color": "#EBF0F8"
             },
             "line": {
              "color": "white"
             }
            },
            "header": {
             "fill": {
              "color": "#C8D4E3"
             },
             "line": {
              "color": "white"
             }
            },
            "type": "table"
           }
          ]
         },
         "layout": {
          "annotationdefaults": {
           "arrowcolor": "#2a3f5f",
           "arrowhead": 0,
           "arrowwidth": 1
          },
          "autotypenumbers": "strict",
          "coloraxis": {
           "colorbar": {
            "outlinewidth": 0,
            "ticks": ""
           }
          },
          "colorscale": {
           "diverging": [
            [
             0,
             "#8e0152"
            ],
            [
             0.1,
             "#c51b7d"
            ],
            [
             0.2,
             "#de77ae"
            ],
            [
             0.3,
             "#f1b6da"
            ],
            [
             0.4,
             "#fde0ef"
            ],
            [
             0.5,
             "#f7f7f7"
            ],
            [
             0.6,
             "#e6f5d0"
            ],
            [
             0.7,
             "#b8e186"
            ],
            [
             0.8,
             "#7fbc41"
            ],
            [
             0.9,
             "#4d9221"
            ],
            [
             1,
             "#276419"
            ]
           ],
           "sequential": [
            [
             0,
             "#0d0887"
            ],
            [
             0.1111111111111111,
             "#46039f"
            ],
            [
             0.2222222222222222,
             "#7201a8"
            ],
            [
             0.3333333333333333,
             "#9c179e"
            ],
            [
             0.4444444444444444,
             "#bd3786"
            ],
            [
             0.5555555555555556,
             "#d8576b"
            ],
            [
             0.6666666666666666,
             "#ed7953"
            ],
            [
             0.7777777777777778,
             "#fb9f3a"
            ],
            [
             0.8888888888888888,
             "#fdca26"
            ],
            [
             1,
             "#f0f921"
            ]
           ],
           "sequentialminus": [
            [
             0,
             "#0d0887"
            ],
            [
             0.1111111111111111,
             "#46039f"
            ],
            [
             0.2222222222222222,
             "#7201a8"
            ],
            [
             0.3333333333333333,
             "#9c179e"
            ],
            [
             0.4444444444444444,
             "#bd3786"
            ],
            [
             0.5555555555555556,
             "#d8576b"
            ],
            [
             0.6666666666666666,
             "#ed7953"
            ],
            [
             0.7777777777777778,
             "#fb9f3a"
            ],
            [
             0.8888888888888888,
             "#fdca26"
            ],
            [
             1,
             "#f0f921"
            ]
           ]
          },
          "colorway": [
           "#636efa",
           "#EF553B",
           "#00cc96",
           "#ab63fa",
           "#FFA15A",
           "#19d3f3",
           "#FF6692",
           "#B6E880",
           "#FF97FF",
           "#FECB52"
          ],
          "font": {
           "color": "#2a3f5f"
          },
          "geo": {
           "bgcolor": "white",
           "lakecolor": "white",
           "landcolor": "#E5ECF6",
           "showlakes": true,
           "showland": true,
           "subunitcolor": "white"
          },
          "hoverlabel": {
           "align": "left"
          },
          "hovermode": "closest",
          "mapbox": {
           "style": "light"
          },
          "paper_bgcolor": "white",
          "plot_bgcolor": "#E5ECF6",
          "polar": {
           "angularaxis": {
            "gridcolor": "white",
            "linecolor": "white",
            "ticks": ""
           },
           "bgcolor": "#E5ECF6",
           "radialaxis": {
            "gridcolor": "white",
            "linecolor": "white",
            "ticks": ""
           }
          },
          "scene": {
           "xaxis": {
            "backgroundcolor": "#E5ECF6",
            "gridcolor": "white",
            "gridwidth": 2,
            "linecolor": "white",
            "showbackground": true,
            "ticks": "",
            "zerolinecolor": "white"
           },
           "yaxis": {
            "backgroundcolor": "#E5ECF6",
            "gridcolor": "white",
            "gridwidth": 2,
            "linecolor": "white",
            "showbackground": true,
            "ticks": "",
            "zerolinecolor": "white"
           },
           "zaxis": {
            "backgroundcolor": "#E5ECF6",
            "gridcolor": "white",
            "gridwidth": 2,
            "linecolor": "white",
            "showbackground": true,
            "ticks": "",
            "zerolinecolor": "white"
           }
          },
          "shapedefaults": {
           "line": {
            "color": "#2a3f5f"
           }
          },
          "ternary": {
           "aaxis": {
            "gridcolor": "white",
            "linecolor": "white",
            "ticks": ""
           },
           "baxis": {
            "gridcolor": "white",
            "linecolor": "white",
            "ticks": ""
           },
           "bgcolor": "#E5ECF6",
           "caxis": {
            "gridcolor": "white",
            "linecolor": "white",
            "ticks": ""
           }
          },
          "title": {
           "x": 0.05
          },
          "xaxis": {
           "automargin": true,
           "gridcolor": "white",
           "linecolor": "white",
           "ticks": "",
           "title": {
            "standoff": 15
           },
           "zerolinecolor": "white",
           "zerolinewidth": 2
          },
          "yaxis": {
           "automargin": true,
           "gridcolor": "white",
           "linecolor": "white",
           "ticks": "",
           "title": {
            "standoff": 15
           },
           "zerolinecolor": "white",
           "zerolinewidth": 2
          }
         }
        },
        "xaxis": {
         "gridcolor": "grey",
         "gridwidth": 1,
         "showgrid": true
        },
        "yaxis": {
         "visible": false
        }
       }
      }
     },
     "metadata": {},
     "output_type": "display_data"
    }
   ],
   "source": [
    "fig = go.Figure(data=[go.Scatter(\n",
    "    x = df_news_articles_stats[\"Date\"], \n",
    "    y = df_news_articles_stats[\"y\"],\n",
    "    name = \"Reach of news articles and posts\",\n",
    "    mode = 'markers',\n",
    "    text = df_news_articles_stats[\"News agency\"],\n",
    "    marker = dict(\n",
    "        color = df_news_articles_stats[\"Color\"],\n",
    "        size = df_news_articles_stats[\"Total number of engagements\"],\n",
    "        sizemode = 'area',\n",
    "        sizeref = 2.*max(df_news_articles_stats[\"Total number of engagements\"])/(40.**2),\n",
    "        sizemin = 4\n",
    "    ),\n",
    "    hovertemplate = \"News agency: %{text} <br>Reach: %{marker.size} <extra></extra>\"\n",
    "\n",
    ")])\n",
    "\n",
    "fig.update_yaxes(visible=False)\n",
    "fig.update_layout(paper_bgcolor=\"rgb(0,0,0,0)\")\n",
    "fig.update_layout(plot_bgcolor=\"rgb(0,0,0,0)\")\n",
    "fig.update_xaxes(showgrid=True, gridwidth=1, gridcolor='grey')\n",
    "fig.show()\n",
    "fig.write_html(\"html/reach.html\", include_plotlyjs=\"cdn\", full_html = False)"
   ]
  },
  {
   "cell_type": "markdown",
   "metadata": {},
   "source": [
    "Create a combined reach of news articles and number of tweets plot."
   ]
  },
  {
   "cell_type": "code",
   "execution_count": 95,
   "metadata": {},
   "outputs": [
    {
     "data": {
      "application/vnd.plotly.v1+json": {
       "config": {
        "plotlyServerURL": "https://plot.ly"
       },
       "data": [
        {
         "hovertemplate": "News agency: %{text} <br>Reach: %{marker.size} <extra></extra>",
         "marker": {
          "color": [
           "rgb(239, 177, 65)",
           "rgb(47, 141, 216)",
           "rgb(7, 50, 99)",
           "rgb(7, 50, 99)",
           "rgb(199, 54, 54)",
           "rgb(239, 177, 65)",
           null,
           "rgb(239, 177, 65)",
           "rgb(53, 80, 161)",
           "rgb(199, 54, 54)"
          ],
          "size": [
           6513,
           203914,
           1657,
           16543,
           27496,
           113264,
           2831,
           2530000,
           14961,
           633
          ],
          "sizemin": 4,
          "sizemode": "area",
          "sizeref": 3162.5
         },
         "mode": "markers",
         "name": "Reach of news articles and posts",
         "text": [
          "CBS",
          "Elon Musk's Twitter",
          "Fox News",
          "Fox News",
          "New York Post",
          "CBS Mornings Youtube Channel ",
          "Washington Post",
          "CBS Mornings",
          "Newsmax",
          "New York Post"
         ],
         "type": "scatter",
         "x": [
          "2022-11-21T18:14:00",
          "2022-11-23T22:38:00",
          "2022-11-22T08:26:00",
          "2022-11-24T15:04:00",
          "2022-11-21T16:49:00",
          "2022-11-21T08:39:59",
          "2022-11-23T02:00:00",
          "2022-11-21T07:30:00",
          "2022-11-24T07:29:00",
          "2022-11-25T18:07:00"
         ],
         "y": [
          14000,
          14000,
          14000,
          14000,
          14000,
          14000,
          14000,
          14000,
          14000,
          14000
         ]
        },
        {
         "marker": {
          "color": "rgba(152, 0, 0, .8)"
         },
         "name": "Number of tweets",
         "type": "scatter",
         "x": [
          "2022-11-20T10:00:00",
          "2022-11-20T11:00:00",
          "2022-11-20T12:00:00",
          "2022-11-20T13:00:00",
          "2022-11-20T14:00:00",
          "2022-11-20T15:00:00",
          "2022-11-20T16:00:00",
          "2022-11-20T17:00:00",
          "2022-11-20T18:00:00",
          "2022-11-20T19:00:00",
          "2022-11-20T20:00:00",
          "2022-11-20T21:00:00",
          "2022-11-20T22:00:00",
          "2022-11-20T23:00:00",
          "2022-11-21T00:00:00",
          "2022-11-21T01:00:00",
          "2022-11-21T02:00:00",
          "2022-11-21T03:00:00",
          "2022-11-21T04:00:00",
          "2022-11-21T05:00:00",
          "2022-11-21T06:00:00",
          "2022-11-21T07:00:00",
          "2022-11-21T08:00:00",
          "2022-11-21T09:00:00",
          "2022-11-21T10:00:00",
          "2022-11-21T11:00:00",
          "2022-11-21T12:00:00",
          "2022-11-21T13:00:00",
          "2022-11-21T14:00:00",
          "2022-11-21T15:00:00",
          "2022-11-21T16:00:00",
          "2022-11-21T17:00:00",
          "2022-11-21T18:00:00",
          "2022-11-21T19:00:00",
          "2022-11-21T20:00:00",
          "2022-11-21T21:00:00",
          "2022-11-21T22:00:00",
          "2022-11-21T23:00:00",
          "2022-11-22T00:00:00",
          "2022-11-22T01:00:00",
          "2022-11-22T02:00:00",
          "2022-11-22T03:00:00",
          "2022-11-22T04:00:00",
          "2022-11-22T05:00:00",
          "2022-11-22T06:00:00",
          "2022-11-22T07:00:00",
          "2022-11-22T08:00:00",
          "2022-11-22T09:00:00",
          "2022-11-22T10:00:00",
          "2022-11-22T11:00:00",
          "2022-11-22T12:00:00",
          "2022-11-22T13:00:00",
          "2022-11-22T14:00:00",
          "2022-11-22T15:00:00",
          "2022-11-22T16:00:00",
          "2022-11-22T17:00:00",
          "2022-11-22T18:00:00",
          "2022-11-22T19:00:00",
          "2022-11-22T20:00:00",
          "2022-11-22T21:00:00",
          "2022-11-22T22:00:00",
          "2022-11-22T23:00:00",
          "2022-11-23T00:00:00",
          "2022-11-23T01:00:00",
          "2022-11-23T02:00:00",
          "2022-11-23T03:00:00",
          "2022-11-23T04:00:00",
          "2022-11-23T05:00:00",
          "2022-11-23T06:00:00",
          "2022-11-23T07:00:00",
          "2022-11-23T08:00:00",
          "2022-11-23T09:00:00",
          "2022-11-23T10:00:00",
          "2022-11-23T11:00:00",
          "2022-11-23T12:00:00",
          "2022-11-23T13:00:00",
          "2022-11-23T14:00:00",
          "2022-11-23T15:00:00",
          "2022-11-23T16:00:00",
          "2022-11-23T17:00:00",
          "2022-11-23T18:00:00",
          "2022-11-23T19:00:00",
          "2022-11-23T20:00:00",
          "2022-11-23T21:00:00",
          "2022-11-23T22:00:00",
          "2022-11-23T23:00:00",
          "2022-11-24T00:00:00",
          "2022-11-24T01:00:00",
          "2022-11-24T02:00:00",
          "2022-11-24T03:00:00",
          "2022-11-24T04:00:00",
          "2022-11-24T05:00:00",
          "2022-11-24T06:00:00",
          "2022-11-24T07:00:00",
          "2022-11-24T08:00:00",
          "2022-11-24T09:00:00",
          "2022-11-24T10:00:00",
          "2022-11-24T11:00:00",
          "2022-11-24T12:00:00",
          "2022-11-24T13:00:00",
          "2022-11-24T14:00:00",
          "2022-11-24T15:00:00",
          "2022-11-24T16:00:00",
          "2022-11-24T17:00:00",
          "2022-11-24T18:00:00",
          "2022-11-24T19:00:00",
          "2022-11-24T20:00:00",
          "2022-11-24T21:00:00",
          "2022-11-24T22:00:00",
          "2022-11-24T23:00:00",
          "2022-11-25T00:00:00",
          "2022-11-25T01:00:00",
          "2022-11-25T02:00:00",
          "2022-11-25T03:00:00",
          "2022-11-25T04:00:00",
          "2022-11-25T05:00:00",
          "2022-11-25T06:00:00",
          "2022-11-25T07:00:00",
          "2022-11-25T08:00:00",
          "2022-11-25T09:00:00",
          "2022-11-25T10:00:00",
          "2022-11-25T11:00:00",
          "2022-11-25T12:00:00",
          "2022-11-25T13:00:00",
          "2022-11-25T14:00:00",
          "2022-11-25T15:00:00",
          "2022-11-25T16:00:00",
          "2022-11-25T17:00:00",
          "2022-11-25T18:00:00",
          "2022-11-25T19:00:00",
          "2022-11-25T20:00:00",
          "2022-11-25T21:00:00",
          "2022-11-25T22:00:00",
          "2022-11-25T23:00:00",
          "2022-11-26T00:00:00",
          "2022-11-26T01:00:00",
          "2022-11-26T02:00:00",
          "2022-11-26T03:00:00",
          "2022-11-26T04:00:00",
          "2022-11-26T05:00:00",
          "2022-11-26T06:00:00",
          "2022-11-26T07:00:00",
          "2022-11-26T08:00:00",
          "2022-11-26T09:00:00",
          "2022-11-26T10:00:00",
          "2022-11-26T11:00:00",
          "2022-11-26T12:00:00",
          "2022-11-26T13:00:00",
          "2022-11-26T14:00:00",
          "2022-11-26T15:00:00",
          "2022-11-26T16:00:00",
          "2022-11-26T17:00:00",
          "2022-11-26T18:00:00",
          "2022-11-26T19:00:00",
          "2022-11-26T20:00:00",
          "2022-11-26T21:00:00",
          "2022-11-26T22:00:00",
          "2022-11-26T23:00:00",
          "2022-11-27T00:00:00",
          "2022-11-27T01:00:00",
          "2022-11-27T02:00:00",
          "2022-11-27T03:00:00",
          "2022-11-27T04:00:00",
          "2022-11-27T05:00:00",
          "2022-11-27T06:00:00",
          "2022-11-27T07:00:00",
          "2022-11-27T08:00:00",
          "2022-11-27T09:00:00"
         ],
         "y": [
          250,
          1053,
          949,
          879,
          711,
          602,
          689,
          595,
          884,
          705,
          625,
          473,
          403,
          363,
          270,
          189,
          138,
          133,
          123,
          102,
          182,
          379,
          1196,
          3622,
          5354,
          6442,
          9408,
          12265,
          10426,
          9098,
          8345,
          10294,
          9967,
          9985,
          10072,
          9201,
          8058,
          6121,
          4557,
          3116,
          2164,
          1846,
          1744,
          2945,
          3979,
          5307,
          6382,
          5659,
          5944,
          6172,
          5673,
          5120,
          4809,
          4376,
          4580,
          4278,
          3950,
          4463,
          3545,
          3340,
          2593,
          3017,
          1893,
          1365,
          1005,
          849,
          877,
          1056,
          1323,
          1705,
          1963,
          2709,
          3393,
          3249,
          2295,
          2428,
          2284,
          1951,
          1679,
          1771,
          1636,
          1509,
          1330,
          1415,
          1836,
          2591,
          3206,
          1770,
          1180,
          855,
          907,
          978,
          1186,
          1688,
          2048,
          2445,
          2538,
          2388,
          1906,
          1694,
          1532,
          1287,
          1722,
          1918,
          2744,
          2583,
          2394,
          2199,
          2037,
          1911,
          1248,
          930,
          761,
          611,
          633,
          651,
          792,
          1242,
          1592,
          1947,
          1792,
          2212,
          1984,
          1740,
          1460,
          1644,
          1639,
          1785,
          2193,
          1868,
          1473,
          1648,
          1091,
          889,
          775,
          550,
          509,
          348,
          445,
          401,
          537,
          777,
          970,
          997,
          940,
          896,
          847,
          714,
          863,
          671,
          632,
          638,
          567,
          470,
          478,
          652,
          388,
          311,
          281,
          210,
          158,
          124,
          106,
          130,
          194,
          222,
          356,
          559
         ]
        }
       ],
       "layout": {
        "hoverlabel": {
         "align": "right"
        },
        "hovermode": "x unified",
        "template": {
         "data": {
          "bar": [
           {
            "error_x": {
             "color": "#2a3f5f"
            },
            "error_y": {
             "color": "#2a3f5f"
            },
            "marker": {
             "line": {
              "color": "#E5ECF6",
              "width": 0.5
             },
             "pattern": {
              "fillmode": "overlay",
              "size": 10,
              "solidity": 0.2
             }
            },
            "type": "bar"
           }
          ],
          "barpolar": [
           {
            "marker": {
             "line": {
              "color": "#E5ECF6",
              "width": 0.5
             },
             "pattern": {
              "fillmode": "overlay",
              "size": 10,
              "solidity": 0.2
             }
            },
            "type": "barpolar"
           }
          ],
          "carpet": [
           {
            "aaxis": {
             "endlinecolor": "#2a3f5f",
             "gridcolor": "white",
             "linecolor": "white",
             "minorgridcolor": "white",
             "startlinecolor": "#2a3f5f"
            },
            "baxis": {
             "endlinecolor": "#2a3f5f",
             "gridcolor": "white",
             "linecolor": "white",
             "minorgridcolor": "white",
             "startlinecolor": "#2a3f5f"
            },
            "type": "carpet"
           }
          ],
          "choropleth": [
           {
            "colorbar": {
             "outlinewidth": 0,
             "ticks": ""
            },
            "type": "choropleth"
           }
          ],
          "contour": [
           {
            "colorbar": {
             "outlinewidth": 0,
             "ticks": ""
            },
            "colorscale": [
             [
              0,
              "#0d0887"
             ],
             [
              0.1111111111111111,
              "#46039f"
             ],
             [
              0.2222222222222222,
              "#7201a8"
             ],
             [
              0.3333333333333333,
              "#9c179e"
             ],
             [
              0.4444444444444444,
              "#bd3786"
             ],
             [
              0.5555555555555556,
              "#d8576b"
             ],
             [
              0.6666666666666666,
              "#ed7953"
             ],
             [
              0.7777777777777778,
              "#fb9f3a"
             ],
             [
              0.8888888888888888,
              "#fdca26"
             ],
             [
              1,
              "#f0f921"
             ]
            ],
            "type": "contour"
           }
          ],
          "contourcarpet": [
           {
            "colorbar": {
             "outlinewidth": 0,
             "ticks": ""
            },
            "type": "contourcarpet"
           }
          ],
          "heatmap": [
           {
            "colorbar": {
             "outlinewidth": 0,
             "ticks": ""
            },
            "colorscale": [
             [
              0,
              "#0d0887"
             ],
             [
              0.1111111111111111,
              "#46039f"
             ],
             [
              0.2222222222222222,
              "#7201a8"
             ],
             [
              0.3333333333333333,
              "#9c179e"
             ],
             [
              0.4444444444444444,
              "#bd3786"
             ],
             [
              0.5555555555555556,
              "#d8576b"
             ],
             [
              0.6666666666666666,
              "#ed7953"
             ],
             [
              0.7777777777777778,
              "#fb9f3a"
             ],
             [
              0.8888888888888888,
              "#fdca26"
             ],
             [
              1,
              "#f0f921"
             ]
            ],
            "type": "heatmap"
           }
          ],
          "heatmapgl": [
           {
            "colorbar": {
             "outlinewidth": 0,
             "ticks": ""
            },
            "colorscale": [
             [
              0,
              "#0d0887"
             ],
             [
              0.1111111111111111,
              "#46039f"
             ],
             [
              0.2222222222222222,
              "#7201a8"
             ],
             [
              0.3333333333333333,
              "#9c179e"
             ],
             [
              0.4444444444444444,
              "#bd3786"
             ],
             [
              0.5555555555555556,
              "#d8576b"
             ],
             [
              0.6666666666666666,
              "#ed7953"
             ],
             [
              0.7777777777777778,
              "#fb9f3a"
             ],
             [
              0.8888888888888888,
              "#fdca26"
             ],
             [
              1,
              "#f0f921"
             ]
            ],
            "type": "heatmapgl"
           }
          ],
          "histogram": [
           {
            "marker": {
             "pattern": {
              "fillmode": "overlay",
              "size": 10,
              "solidity": 0.2
             }
            },
            "type": "histogram"
           }
          ],
          "histogram2d": [
           {
            "colorbar": {
             "outlinewidth": 0,
             "ticks": ""
            },
            "colorscale": [
             [
              0,
              "#0d0887"
             ],
             [
              0.1111111111111111,
              "#46039f"
             ],
             [
              0.2222222222222222,
              "#7201a8"
             ],
             [
              0.3333333333333333,
              "#9c179e"
             ],
             [
              0.4444444444444444,
              "#bd3786"
             ],
             [
              0.5555555555555556,
              "#d8576b"
             ],
             [
              0.6666666666666666,
              "#ed7953"
             ],
             [
              0.7777777777777778,
              "#fb9f3a"
             ],
             [
              0.8888888888888888,
              "#fdca26"
             ],
             [
              1,
              "#f0f921"
             ]
            ],
            "type": "histogram2d"
           }
          ],
          "histogram2dcontour": [
           {
            "colorbar": {
             "outlinewidth": 0,
             "ticks": ""
            },
            "colorscale": [
             [
              0,
              "#0d0887"
             ],
             [
              0.1111111111111111,
              "#46039f"
             ],
             [
              0.2222222222222222,
              "#7201a8"
             ],
             [
              0.3333333333333333,
              "#9c179e"
             ],
             [
              0.4444444444444444,
              "#bd3786"
             ],
             [
              0.5555555555555556,
              "#d8576b"
             ],
             [
              0.6666666666666666,
              "#ed7953"
             ],
             [
              0.7777777777777778,
              "#fb9f3a"
             ],
             [
              0.8888888888888888,
              "#fdca26"
             ],
             [
              1,
              "#f0f921"
             ]
            ],
            "type": "histogram2dcontour"
           }
          ],
          "mesh3d": [
           {
            "colorbar": {
             "outlinewidth": 0,
             "ticks": ""
            },
            "type": "mesh3d"
           }
          ],
          "parcoords": [
           {
            "line": {
             "colorbar": {
              "outlinewidth": 0,
              "ticks": ""
             }
            },
            "type": "parcoords"
           }
          ],
          "pie": [
           {
            "automargin": true,
            "type": "pie"
           }
          ],
          "scatter": [
           {
            "marker": {
             "colorbar": {
              "outlinewidth": 0,
              "ticks": ""
             }
            },
            "type": "scatter"
           }
          ],
          "scatter3d": [
           {
            "line": {
             "colorbar": {
              "outlinewidth": 0,
              "ticks": ""
             }
            },
            "marker": {
             "colorbar": {
              "outlinewidth": 0,
              "ticks": ""
             }
            },
            "type": "scatter3d"
           }
          ],
          "scattercarpet": [
           {
            "marker": {
             "colorbar": {
              "outlinewidth": 0,
              "ticks": ""
             }
            },
            "type": "scattercarpet"
           }
          ],
          "scattergeo": [
           {
            "marker": {
             "colorbar": {
              "outlinewidth": 0,
              "ticks": ""
             }
            },
            "type": "scattergeo"
           }
          ],
          "scattergl": [
           {
            "marker": {
             "colorbar": {
              "outlinewidth": 0,
              "ticks": ""
             }
            },
            "type": "scattergl"
           }
          ],
          "scattermapbox": [
           {
            "marker": {
             "colorbar": {
              "outlinewidth": 0,
              "ticks": ""
             }
            },
            "type": "scattermapbox"
           }
          ],
          "scatterpolar": [
           {
            "marker": {
             "colorbar": {
              "outlinewidth": 0,
              "ticks": ""
             }
            },
            "type": "scatterpolar"
           }
          ],
          "scatterpolargl": [
           {
            "marker": {
             "colorbar": {
              "outlinewidth": 0,
              "ticks": ""
             }
            },
            "type": "scatterpolargl"
           }
          ],
          "scatterternary": [
           {
            "marker": {
             "colorbar": {
              "outlinewidth": 0,
              "ticks": ""
             }
            },
            "type": "scatterternary"
           }
          ],
          "surface": [
           {
            "colorbar": {
             "outlinewidth": 0,
             "ticks": ""
            },
            "colorscale": [
             [
              0,
              "#0d0887"
             ],
             [
              0.1111111111111111,
              "#46039f"
             ],
             [
              0.2222222222222222,
              "#7201a8"
             ],
             [
              0.3333333333333333,
              "#9c179e"
             ],
             [
              0.4444444444444444,
              "#bd3786"
             ],
             [
              0.5555555555555556,
              "#d8576b"
             ],
             [
              0.6666666666666666,
              "#ed7953"
             ],
             [
              0.7777777777777778,
              "#fb9f3a"
             ],
             [
              0.8888888888888888,
              "#fdca26"
             ],
             [
              1,
              "#f0f921"
             ]
            ],
            "type": "surface"
           }
          ],
          "table": [
           {
            "cells": {
             "fill": {
              "color": "#EBF0F8"
             },
             "line": {
              "color": "white"
             }
            },
            "header": {
             "fill": {
              "color": "#C8D4E3"
             },
             "line": {
              "color": "white"
             }
            },
            "type": "table"
           }
          ]
         },
         "layout": {
          "annotationdefaults": {
           "arrowcolor": "#2a3f5f",
           "arrowhead": 0,
           "arrowwidth": 1
          },
          "autotypenumbers": "strict",
          "coloraxis": {
           "colorbar": {
            "outlinewidth": 0,
            "ticks": ""
           }
          },
          "colorscale": {
           "diverging": [
            [
             0,
             "#8e0152"
            ],
            [
             0.1,
             "#c51b7d"
            ],
            [
             0.2,
             "#de77ae"
            ],
            [
             0.3,
             "#f1b6da"
            ],
            [
             0.4,
             "#fde0ef"
            ],
            [
             0.5,
             "#f7f7f7"
            ],
            [
             0.6,
             "#e6f5d0"
            ],
            [
             0.7,
             "#b8e186"
            ],
            [
             0.8,
             "#7fbc41"
            ],
            [
             0.9,
             "#4d9221"
            ],
            [
             1,
             "#276419"
            ]
           ],
           "sequential": [
            [
             0,
             "#0d0887"
            ],
            [
             0.1111111111111111,
             "#46039f"
            ],
            [
             0.2222222222222222,
             "#7201a8"
            ],
            [
             0.3333333333333333,
             "#9c179e"
            ],
            [
             0.4444444444444444,
             "#bd3786"
            ],
            [
             0.5555555555555556,
             "#d8576b"
            ],
            [
             0.6666666666666666,
             "#ed7953"
            ],
            [
             0.7777777777777778,
             "#fb9f3a"
            ],
            [
             0.8888888888888888,
             "#fdca26"
            ],
            [
             1,
             "#f0f921"
            ]
           ],
           "sequentialminus": [
            [
             0,
             "#0d0887"
            ],
            [
             0.1111111111111111,
             "#46039f"
            ],
            [
             0.2222222222222222,
             "#7201a8"
            ],
            [
             0.3333333333333333,
             "#9c179e"
            ],
            [
             0.4444444444444444,
             "#bd3786"
            ],
            [
             0.5555555555555556,
             "#d8576b"
            ],
            [
             0.6666666666666666,
             "#ed7953"
            ],
            [
             0.7777777777777778,
             "#fb9f3a"
            ],
            [
             0.8888888888888888,
             "#fdca26"
            ],
            [
             1,
             "#f0f921"
            ]
           ]
          },
          "colorway": [
           "#636efa",
           "#EF553B",
           "#00cc96",
           "#ab63fa",
           "#FFA15A",
           "#19d3f3",
           "#FF6692",
           "#B6E880",
           "#FF97FF",
           "#FECB52"
          ],
          "font": {
           "color": "#2a3f5f"
          },
          "geo": {
           "bgcolor": "white",
           "lakecolor": "white",
           "landcolor": "#E5ECF6",
           "showlakes": true,
           "showland": true,
           "subunitcolor": "white"
          },
          "hoverlabel": {
           "align": "left"
          },
          "hovermode": "closest",
          "mapbox": {
           "style": "light"
          },
          "paper_bgcolor": "white",
          "plot_bgcolor": "#E5ECF6",
          "polar": {
           "angularaxis": {
            "gridcolor": "white",
            "linecolor": "white",
            "ticks": ""
           },
           "bgcolor": "#E5ECF6",
           "radialaxis": {
            "gridcolor": "white",
            "linecolor": "white",
            "ticks": ""
           }
          },
          "scene": {
           "xaxis": {
            "backgroundcolor": "#E5ECF6",
            "gridcolor": "white",
            "gridwidth": 2,
            "linecolor": "white",
            "showbackground": true,
            "ticks": "",
            "zerolinecolor": "white"
           },
           "yaxis": {
            "backgroundcolor": "#E5ECF6",
            "gridcolor": "white",
            "gridwidth": 2,
            "linecolor": "white",
            "showbackground": true,
            "ticks": "",
            "zerolinecolor": "white"
           },
           "zaxis": {
            "backgroundcolor": "#E5ECF6",
            "gridcolor": "white",
            "gridwidth": 2,
            "linecolor": "white",
            "showbackground": true,
            "ticks": "",
            "zerolinecolor": "white"
           }
          },
          "shapedefaults": {
           "line": {
            "color": "#2a3f5f"
           }
          },
          "ternary": {
           "aaxis": {
            "gridcolor": "white",
            "linecolor": "white",
            "ticks": ""
           },
           "baxis": {
            "gridcolor": "white",
            "linecolor": "white",
            "ticks": ""
           },
           "bgcolor": "#E5ECF6",
           "caxis": {
            "gridcolor": "white",
            "linecolor": "white",
            "ticks": ""
           }
          },
          "title": {
           "x": 0.05
          },
          "xaxis": {
           "automargin": true,
           "gridcolor": "white",
           "linecolor": "white",
           "ticks": "",
           "title": {
            "standoff": 15
           },
           "zerolinecolor": "white",
           "zerolinewidth": 2
          },
          "yaxis": {
           "automargin": true,
           "gridcolor": "white",
           "linecolor": "white",
           "ticks": "",
           "title": {
            "standoff": 15
           },
           "zerolinecolor": "white",
           "zerolinewidth": 2
          }
         }
        }
       }
      }
     },
     "metadata": {},
     "output_type": "display_data"
    }
   ],
   "source": [
    "trace1 = go.Scatter(\n",
    "    x = df_news_articles_stats[\"Date\"], \n",
    "    y = df_news_articles_stats[\"y\"],\n",
    "    name = \"Reach of news articles and posts\",\n",
    "    mode = 'markers',\n",
    "    text = df_news_articles_stats[\"News agency\"],\n",
    "    marker = dict(\n",
    "        color = df_news_articles_stats[\"Color\"],\n",
    "        size = df_news_articles_stats[\"Total number of engagements\"],\n",
    "        sizemode = 'area',\n",
    "        sizeref = 2.*max(df_news_articles_stats[\"Total number of engagements\"])/(40.**2),\n",
    "        sizemin = 4\n",
    "    ),\n",
    "    hovertemplate = \"News agency: %{text} <br>Reach: %{marker.size} <extra></extra>\"\n",
    ")\n",
    "\n",
    "\n",
    "trace2 = go.Scatter(\n",
    "    x = df_number_of_tweets[\"Date\"], \n",
    "    y = df_number_of_tweets[\"Number of tweets\"],\n",
    "    marker_color=\"rgba(152, 0, 0, .8)\",\n",
    "    name = \"Number of tweets\"\n",
    ")\n",
    "\n",
    "fig = go.Figure()\n",
    "fig.add_trace(trace1)\n",
    "fig.add_trace(trace2)\n",
    "fig.update_layout(\n",
    "    hoverlabel_align = 'right')\n",
    "fig.update_layout(hovermode=\"x unified\")\n",
    "fig.show()"
   ]
  },
  {
   "cell_type": "code",
   "execution_count": 96,
   "metadata": {},
   "outputs": [],
   "source": [
    "fig.write_html(\"html/combined.html\", include_plotlyjs=\"cdn\", full_html = False)"
   ]
  },
  {
   "cell_type": "markdown",
   "metadata": {},
   "source": [
    "Next, the number of unique accounts posting about the topic each day is counted. On days where there was a surge of tweets, the data only returns tweets for up to a certain time instead of the full day. Due to these limitations, the tweet data will be combined with the number of tweets dataset to estimate the number of unique accounts posting on that day. "
   ]
  },
  {
   "cell_type": "code",
   "execution_count": 97,
   "metadata": {},
   "outputs": [
    {
     "data": {
      "text/html": [
       "<div>\n",
       "<style scoped>\n",
       "    .dataframe tbody tr th:only-of-type {\n",
       "        vertical-align: middle;\n",
       "    }\n",
       "\n",
       "    .dataframe tbody tr th {\n",
       "        vertical-align: top;\n",
       "    }\n",
       "\n",
       "    .dataframe thead th {\n",
       "        text-align: right;\n",
       "    }\n",
       "</style>\n",
       "<table border=\"1\" class=\"dataframe\">\n",
       "  <thead>\n",
       "    <tr style=\"text-align: right;\">\n",
       "      <th></th>\n",
       "      <th>Date</th>\n",
       "      <th>Number of tweets</th>\n",
       "      <th>Day</th>\n",
       "      <th>Time</th>\n",
       "    </tr>\n",
       "  </thead>\n",
       "  <tbody>\n",
       "    <tr>\n",
       "      <th>0</th>\n",
       "      <td>2022-11-20 10:00:00</td>\n",
       "      <td>250</td>\n",
       "      <td>2022-11-20</td>\n",
       "      <td>10:00:00</td>\n",
       "    </tr>\n",
       "    <tr>\n",
       "      <th>1</th>\n",
       "      <td>2022-11-20 11:00:00</td>\n",
       "      <td>1053</td>\n",
       "      <td>2022-11-20</td>\n",
       "      <td>11:00:00</td>\n",
       "    </tr>\n",
       "    <tr>\n",
       "      <th>2</th>\n",
       "      <td>2022-11-20 12:00:00</td>\n",
       "      <td>949</td>\n",
       "      <td>2022-11-20</td>\n",
       "      <td>12:00:00</td>\n",
       "    </tr>\n",
       "    <tr>\n",
       "      <th>3</th>\n",
       "      <td>2022-11-20 13:00:00</td>\n",
       "      <td>879</td>\n",
       "      <td>2022-11-20</td>\n",
       "      <td>13:00:00</td>\n",
       "    </tr>\n",
       "    <tr>\n",
       "      <th>4</th>\n",
       "      <td>2022-11-20 14:00:00</td>\n",
       "      <td>711</td>\n",
       "      <td>2022-11-20</td>\n",
       "      <td>14:00:00</td>\n",
       "    </tr>\n",
       "  </tbody>\n",
       "</table>\n",
       "</div>"
      ],
      "text/plain": [
       "                  Date  Number of tweets         Day      Time\n",
       "0  2022-11-20 10:00:00               250  2022-11-20  10:00:00\n",
       "1  2022-11-20 11:00:00              1053  2022-11-20  11:00:00\n",
       "2  2022-11-20 12:00:00               949  2022-11-20  12:00:00\n",
       "3  2022-11-20 13:00:00               879  2022-11-20  13:00:00\n",
       "4  2022-11-20 14:00:00               711  2022-11-20  14:00:00"
      ]
     },
     "execution_count": 97,
     "metadata": {},
     "output_type": "execute_result"
    }
   ],
   "source": [
    "df_number_of_tweets[\"Date\"] = df_number_of_tweets[\"Date\"].astype(str)\n",
    "df_number_of_tweets[['Day','Time']] = df_number_of_tweets.Date.str.split(expand=True)\n",
    "\n",
    "df_number_of_tweets.head()\n"
   ]
  },
  {
   "cell_type": "code",
   "execution_count": 98,
   "metadata": {},
   "outputs": [
    {
     "data": {
      "text/html": [
       "<div>\n",
       "<style scoped>\n",
       "    .dataframe tbody tr th:only-of-type {\n",
       "        vertical-align: middle;\n",
       "    }\n",
       "\n",
       "    .dataframe tbody tr th {\n",
       "        vertical-align: top;\n",
       "    }\n",
       "\n",
       "    .dataframe thead th {\n",
       "        text-align: right;\n",
       "    }\n",
       "</style>\n",
       "<table border=\"1\" class=\"dataframe\">\n",
       "  <thead>\n",
       "    <tr style=\"text-align: right;\">\n",
       "      <th></th>\n",
       "      <th>Day</th>\n",
       "      <th>Number of tweets</th>\n",
       "    </tr>\n",
       "  </thead>\n",
       "  <tbody>\n",
       "    <tr>\n",
       "      <th>0</th>\n",
       "      <td>2022-11-20</td>\n",
       "      <td>9181</td>\n",
       "    </tr>\n",
       "    <tr>\n",
       "      <th>1</th>\n",
       "      <td>2022-11-21</td>\n",
       "      <td>131370</td>\n",
       "    </tr>\n",
       "    <tr>\n",
       "      <th>2</th>\n",
       "      <td>2022-11-22</td>\n",
       "      <td>99559</td>\n",
       "    </tr>\n",
       "    <tr>\n",
       "      <th>3</th>\n",
       "      <td>2022-11-23</td>\n",
       "      <td>44112</td>\n",
       "    </tr>\n",
       "    <tr>\n",
       "      <th>4</th>\n",
       "      <td>2022-11-24</td>\n",
       "      <td>45116</td>\n",
       "    </tr>\n",
       "    <tr>\n",
       "      <th>5</th>\n",
       "      <td>2022-11-25</td>\n",
       "      <td>33825</td>\n",
       "    </tr>\n",
       "    <tr>\n",
       "      <th>6</th>\n",
       "      <td>2022-11-26</td>\n",
       "      <td>15376</td>\n",
       "    </tr>\n",
       "    <tr>\n",
       "      <th>7</th>\n",
       "      <td>2022-11-27</td>\n",
       "      <td>2340</td>\n",
       "    </tr>\n",
       "  </tbody>\n",
       "</table>\n",
       "</div>"
      ],
      "text/plain": [
       "          Day  Number of tweets\n",
       "0  2022-11-20              9181\n",
       "1  2022-11-21            131370\n",
       "2  2022-11-22             99559\n",
       "3  2022-11-23             44112\n",
       "4  2022-11-24             45116\n",
       "5  2022-11-25             33825\n",
       "6  2022-11-26             15376\n",
       "7  2022-11-27              2340"
      ]
     },
     "execution_count": 98,
     "metadata": {},
     "output_type": "execute_result"
    }
   ],
   "source": [
    "df_tweets_by_day = df_number_of_tweets.groupby(\"Day\")[\"Number of tweets\"].sum().reset_index(name='Number of tweets')\n",
    "\n",
    "df_tweets_by_day.head(8)"
   ]
  },
  {
   "cell_type": "markdown",
   "metadata": {},
   "source": [
    "Read the tweet data to dataframes. Like for the wordclouds, only the data with tweets from accounts with over 20 followers is kept to get rid of spam."
   ]
  },
  {
   "cell_type": "code",
   "execution_count": 99,
   "metadata": {},
   "outputs": [],
   "source": [
    "dataframe = {}\n",
    "\n",
    "for date in range(20, 28):\n",
    "    file = \"data/\" + str(date) +\"_nov_archive.csv\"\n",
    "    df = pd.read_csv(file)\n",
    "    key = str(\"df_\" + str(date) + \"_nov\")\n",
    "    dataframe[key] = df\n",
    "\n",
    "for date in dataframe:\n",
    "    dataframe[date] = dataframe[date][dataframe[date][\"user_followers_count\"] > 49] "
   ]
  },
  {
   "cell_type": "markdown",
   "metadata": {},
   "source": [
    "Using the 'df_number_of_tweets_by_day' dataframe, add a column with the time of last tweet in tweet dataset and number of unique users. The dataset is sorted from descending time, so \n"
   ]
  },
  {
   "cell_type": "code",
   "execution_count": 100,
   "metadata": {},
   "outputs": [
    {
     "name": "stdout",
     "output_type": "stream",
     "text": [
      "6624\n"
     ]
    }
   ],
   "source": [
    "print(dataframe[\"df_20_nov\"][\"from_user\"].unique().size)"
   ]
  },
  {
   "cell_type": "code",
   "execution_count": 101,
   "metadata": {},
   "outputs": [
    {
     "data": {
      "text/html": [
       "<div>\n",
       "<style scoped>\n",
       "    .dataframe tbody tr th:only-of-type {\n",
       "        vertical-align: middle;\n",
       "    }\n",
       "\n",
       "    .dataframe tbody tr th {\n",
       "        vertical-align: top;\n",
       "    }\n",
       "\n",
       "    .dataframe thead th {\n",
       "        text-align: right;\n",
       "    }\n",
       "</style>\n",
       "<table border=\"1\" class=\"dataframe\">\n",
       "  <thead>\n",
       "    <tr style=\"text-align: right;\">\n",
       "      <th></th>\n",
       "      <th>Day</th>\n",
       "      <th>Number of tweets</th>\n",
       "      <th>Time of last tweet</th>\n",
       "      <th>Number of unique users</th>\n",
       "    </tr>\n",
       "  </thead>\n",
       "  <tbody>\n",
       "    <tr>\n",
       "      <th>0</th>\n",
       "      <td>2022-11-20</td>\n",
       "      <td>9181</td>\n",
       "      <td>10:00:16</td>\n",
       "      <td>6624</td>\n",
       "    </tr>\n",
       "    <tr>\n",
       "      <th>1</th>\n",
       "      <td>2022-11-21</td>\n",
       "      <td>131370</td>\n",
       "      <td>21:48:01</td>\n",
       "      <td>8964</td>\n",
       "    </tr>\n",
       "    <tr>\n",
       "      <th>2</th>\n",
       "      <td>2022-11-22</td>\n",
       "      <td>99559</td>\n",
       "      <td>19:00:30</td>\n",
       "      <td>9025</td>\n",
       "    </tr>\n",
       "    <tr>\n",
       "      <th>3</th>\n",
       "      <td>2022-11-23</td>\n",
       "      <td>44112</td>\n",
       "      <td>14:44:55</td>\n",
       "      <td>10482</td>\n",
       "    </tr>\n",
       "    <tr>\n",
       "      <th>4</th>\n",
       "      <td>2022-11-24</td>\n",
       "      <td>45116</td>\n",
       "      <td>13:10:21</td>\n",
       "      <td>9995</td>\n",
       "    </tr>\n",
       "    <tr>\n",
       "      <th>5</th>\n",
       "      <td>2022-11-25</td>\n",
       "      <td>33825</td>\n",
       "      <td>08:38:08</td>\n",
       "      <td>9177</td>\n",
       "    </tr>\n",
       "    <tr>\n",
       "      <th>6</th>\n",
       "      <td>2022-11-26</td>\n",
       "      <td>15376</td>\n",
       "      <td>00:15:19</td>\n",
       "      <td>8385</td>\n",
       "    </tr>\n",
       "    <tr>\n",
       "      <th>7</th>\n",
       "      <td>2022-11-27</td>\n",
       "      <td>2340</td>\n",
       "      <td>00:00:10</td>\n",
       "      <td>1426</td>\n",
       "    </tr>\n",
       "  </tbody>\n",
       "</table>\n",
       "</div>"
      ],
      "text/plain": [
       "          Day  Number of tweets Time of last tweet  Number of unique users\n",
       "0  2022-11-20              9181           10:00:16                    6624\n",
       "1  2022-11-21            131370           21:48:01                    8964\n",
       "2  2022-11-22             99559           19:00:30                    9025\n",
       "3  2022-11-23             44112           14:44:55                   10482\n",
       "4  2022-11-24             45116           13:10:21                    9995\n",
       "5  2022-11-25             33825           08:38:08                    9177\n",
       "6  2022-11-26             15376           00:15:19                    8385\n",
       "7  2022-11-27              2340           00:00:10                    1426"
      ]
     },
     "execution_count": 101,
     "metadata": {},
     "output_type": "execute_result"
    }
   ],
   "source": [
    "time_of_last_tweet = []\n",
    "number_of_unique_users_in_dataset = []\n",
    "\n",
    "for date in dataframe:\n",
    "    df = dataframe[date]\n",
    "    df[[\"Day\",\"Time\"]] = df.time.str.split(expand=True)\n",
    "    time_of_last_tweet.append(df.iloc[-1][\"Time\"])\n",
    "    number_of_unique_users_in_dataset.append(df[\"from_user\"].unique().size)\n",
    "\n",
    "df_tweets_by_day[\"Time of last tweet\"] = time_of_last_tweet\n",
    "df_tweets_by_day[\"Number of unique users\"] = number_of_unique_users_in_dataset\n",
    "\n",
    "df_tweets_by_day.head(8)"
   ]
  },
  {
   "cell_type": "markdown",
   "metadata": {},
   "source": [
    "Only the data for 20 and 27 November is complete. So the number of seconds that we have data for will be calculated. Then, the number of tweets per second and number of unique users per second is calcuated to get the number of unique users per tweet."
   ]
  },
  {
   "cell_type": "code",
   "execution_count": 102,
   "metadata": {},
   "outputs": [
    {
     "name": "stdout",
     "output_type": "stream",
     "text": [
      "          Day  Number of tweets Time of last tweet  Number of unique users  \\\n",
      "0  2022-11-20              9181    0 days 10:00:16                    6624   \n",
      "1  2022-11-21            131370    0 days 21:48:01                    8964   \n",
      "2  2022-11-22             99559    0 days 19:00:30                    9025   \n",
      "3  2022-11-23             44112    0 days 14:44:55                   10482   \n",
      "4  2022-11-24             45116    0 days 13:10:21                    9995   \n",
      "5  2022-11-25             33825    0 days 08:38:08                    9177   \n",
      "6  2022-11-26             15376    0 days 00:15:19                    8385   \n",
      "7  2022-11-27              2340    0 days 00:00:10                    1426   \n",
      "\n",
      "   Seconds  Tweets per second  Unique users per second  Total unique users  \n",
      "0  36016.0           0.106262                 0.183918         6624.000000  \n",
      "1  78481.0           1.520486                 0.114219         9868.498108  \n",
      "2  68430.0           1.152303                 0.131887        11395.002192  \n",
      "3  53095.0           0.510556                 0.197420        17057.063754  \n",
      "4  47421.0           0.522176                 0.210772        18210.666161  \n",
      "5  31088.0           0.391493                 0.295194        25504.786413  \n",
      "6    919.0           0.177963                 9.124048       788317.736670  \n",
      "7     10.0           0.027083               142.600000         1426.000000  \n"
     ]
    }
   ],
   "source": [
    "\n",
    "df_tweets_by_day[\"Time of last tweet\"]= pd.to_timedelta(df_tweets_by_day[\"Time of last tweet\"])\n",
    "df_tweets_by_day[\"Seconds\"] = df_tweets_by_day[\"Time of last tweet\"].dt.total_seconds()\n",
    "\n",
    "df_tweets_by_day[\"Tweets per second\"] = df_tweets_by_day[\"Number of tweets\"]/(24*60*60)\n",
    "df_tweets_by_day[\"Unique users per second\"] = df_tweets_by_day[\"Number of unique users\"]/df_tweets_by_day[\"Seconds\"]\n",
    "df_tweets_by_day[\"Total unique users\"] = (df_tweets_by_day[\"Unique users per second\"]/df_tweets_by_day[\"Tweets per second\"])*(df_tweets_by_day[\"Number of tweets\"])\n",
    "\n",
    "df_tweets_by_day.loc[0, \"Total unique users\"] = df_tweets_by_day.loc[0, \"Number of unique users\"]\n",
    "df_tweets_by_day.loc[7, \"Total unique users\"] = df_tweets_by_day.loc[7, \"Number of unique users\"]\n",
    "\n",
    "print(df_tweets_by_day)"
   ]
  }
 ],
 "metadata": {
  "kernelspec": {
   "display_name": "Python 3.8.5 ('base')",
   "language": "python",
   "name": "python3"
  },
  "language_info": {
   "codemirror_mode": {
    "name": "ipython",
    "version": 3
   },
   "file_extension": ".py",
   "mimetype": "text/x-python",
   "name": "python",
   "nbconvert_exporter": "python",
   "pygments_lexer": "ipython3",
   "version": "3.8.5"
  },
  "orig_nbformat": 4,
  "vscode": {
   "interpreter": {
    "hash": "40d3a090f54c6569ab1632332b64b2c03c39dcf918b08424e98f38b5ae0af88f"
   }
  }
 },
 "nbformat": 4,
 "nbformat_minor": 2
}
